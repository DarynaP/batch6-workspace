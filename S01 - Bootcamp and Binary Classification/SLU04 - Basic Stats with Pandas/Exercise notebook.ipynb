{
 "cells": [
  {
   "cell_type": "markdown",
   "id": "50525f54",
   "metadata": {
    "deletable": false,
    "editable": false,
    "nbgrader": {
     "grade": false,
     "grade_id": "cell-310bdcceebbb8d52",
     "locked": true,
     "schema_version": 3,
     "solution": false,
     "task": false
    }
   },
   "source": [
    "# SLU04 - Basic Stats with Pandas: Exercises notebook\n",
    "\n",
    "In these exercises, we'll use a dataset with information on books from [Goodreads](https://www.goodreads.com/). Goodreads is a platform that allows users to rate and review books. The dataset has been extracted from [Kaggle](https://www.kaggle.com/).\n",
    "\n",
    "## Objective\n",
    "\n",
    "The goal of these exercises is for you to learn how to use pandas to obtain simple statistics from datasets. The following will be tested:\n",
    "- Minimum, maximum, argmin, argmax\n",
    "- Mean, median & mode\n",
    "- Standard deviation and variance\n",
    "- Skewness & Kurtosis\n",
    "- Quantiles\n",
    "- Outliers & how to deal with them\n",
    "\n",
    "## Dataset information\n",
    "\n",
    "![](media/goodreads.jpg)\n",
    "\n",
    "This dataset contains a sample of ~57,000 books rated and reviewed by users on Goodreads.\n",
    "\n",
    "The fields in the dataset are the following:\n",
    "\n",
    "- `Id`: Book ID on Goodreads\n",
    "- `Name`: Book title\n",
    "- `pagesNumber`: Pages for each book\n",
    "- `Publisher`: Publisher name\n",
    "- `CountsOfReview`: Counts of text review\n",
    "- `PublishYear`: Year the book was published\n",
    "- `Authors`: Book author\n",
    "- `Rating`: Average rating of the book (0.0 - 5.0)\n",
    "- `ISBN`: Unique book identifier (International Standard Book Number)"
   ]
  },
  {
   "cell_type": "code",
   "execution_count": 1,
   "id": "16b0c039",
   "metadata": {
    "deletable": false,
    "editable": false,
    "nbgrader": {
     "grade": false,
     "grade_id": "cell-3a7c752ca246892c",
     "locked": true,
     "schema_version": 3,
     "solution": false,
     "task": false
    }
   },
   "outputs": [],
   "source": [
    "import pandas as pd\n",
    "import numpy as np\n",
    "import matplotlib.pyplot as plt\n",
    "import math \n",
    "import hashlib"
   ]
  },
  {
   "cell_type": "code",
   "execution_count": 2,
   "id": "6611cad7",
   "metadata": {
    "deletable": false,
    "editable": false,
    "nbgrader": {
     "grade": false,
     "grade_id": "cell-05bad370cf6d127e",
     "locked": true,
     "schema_version": 3,
     "solution": false,
     "task": false
    }
   },
   "outputs": [
    {
     "data": {
      "text/html": [
       "<div>\n",
       "<style scoped>\n",
       "    .dataframe tbody tr th:only-of-type {\n",
       "        vertical-align: middle;\n",
       "    }\n",
       "\n",
       "    .dataframe tbody tr th {\n",
       "        vertical-align: top;\n",
       "    }\n",
       "\n",
       "    .dataframe thead th {\n",
       "        text-align: right;\n",
       "    }\n",
       "</style>\n",
       "<table border=\"1\" class=\"dataframe\">\n",
       "  <thead>\n",
       "    <tr style=\"text-align: right;\">\n",
       "      <th></th>\n",
       "      <th>Name</th>\n",
       "      <th>pagesNumber</th>\n",
       "      <th>Publisher</th>\n",
       "      <th>CountsOfReview</th>\n",
       "      <th>PublishYear</th>\n",
       "      <th>Authors</th>\n",
       "      <th>Rating</th>\n",
       "      <th>ISBN</th>\n",
       "    </tr>\n",
       "    <tr>\n",
       "      <th>Id</th>\n",
       "      <th></th>\n",
       "      <th></th>\n",
       "      <th></th>\n",
       "      <th></th>\n",
       "      <th></th>\n",
       "      <th></th>\n",
       "      <th></th>\n",
       "      <th></th>\n",
       "    </tr>\n",
       "  </thead>\n",
       "  <tbody>\n",
       "    <tr>\n",
       "      <th>2</th>\n",
       "      <td>Harry Potter and the Order of the Phoenix (Har...</td>\n",
       "      <td>870</td>\n",
       "      <td>Scholastic Inc.</td>\n",
       "      <td>29770</td>\n",
       "      <td>2004</td>\n",
       "      <td>J.K. Rowling</td>\n",
       "      <td>4.50</td>\n",
       "      <td>439358078</td>\n",
       "    </tr>\n",
       "    <tr>\n",
       "      <th>4</th>\n",
       "      <td>Harry Potter and the Chamber of Secrets (Harry...</td>\n",
       "      <td>352</td>\n",
       "      <td>Scholastic</td>\n",
       "      <td>244</td>\n",
       "      <td>2003</td>\n",
       "      <td>J.K. Rowling</td>\n",
       "      <td>4.42</td>\n",
       "      <td>439554896</td>\n",
       "    </tr>\n",
       "    <tr>\n",
       "      <th>5</th>\n",
       "      <td>Harry Potter and the Prisoner of Azkaban (Harr...</td>\n",
       "      <td>435</td>\n",
       "      <td>Scholastic Inc.</td>\n",
       "      <td>37093</td>\n",
       "      <td>2004</td>\n",
       "      <td>J.K. Rowling</td>\n",
       "      <td>4.57</td>\n",
       "      <td>043965548X</td>\n",
       "    </tr>\n",
       "    <tr>\n",
       "      <th>8</th>\n",
       "      <td>Harry Potter Boxed Set, Books 1-5 (Harry Potte...</td>\n",
       "      <td>2690</td>\n",
       "      <td>Scholastic</td>\n",
       "      <td>166</td>\n",
       "      <td>2004</td>\n",
       "      <td>J.K. Rowling</td>\n",
       "      <td>4.78</td>\n",
       "      <td>439682584</td>\n",
       "    </tr>\n",
       "    <tr>\n",
       "      <th>9</th>\n",
       "      <td>Unauthorized Harry Potter Book Seven News: \"Ha...</td>\n",
       "      <td>152</td>\n",
       "      <td>Nimble Books</td>\n",
       "      <td>1</td>\n",
       "      <td>2005</td>\n",
       "      <td>W. Frederick Zimmerman</td>\n",
       "      <td>3.79</td>\n",
       "      <td>976540606</td>\n",
       "    </tr>\n",
       "  </tbody>\n",
       "</table>\n",
       "</div>"
      ],
      "text/plain": [
       "                                                 Name  pagesNumber  \\\n",
       "Id                                                                   \n",
       "2   Harry Potter and the Order of the Phoenix (Har...          870   \n",
       "4   Harry Potter and the Chamber of Secrets (Harry...          352   \n",
       "5   Harry Potter and the Prisoner of Azkaban (Harr...          435   \n",
       "8   Harry Potter Boxed Set, Books 1-5 (Harry Potte...         2690   \n",
       "9   Unauthorized Harry Potter Book Seven News: \"Ha...          152   \n",
       "\n",
       "          Publisher  CountsOfReview  PublishYear                 Authors  \\\n",
       "Id                                                                         \n",
       "2   Scholastic Inc.           29770         2004            J.K. Rowling   \n",
       "4        Scholastic             244         2003            J.K. Rowling   \n",
       "5   Scholastic Inc.           37093         2004            J.K. Rowling   \n",
       "8        Scholastic             166         2004            J.K. Rowling   \n",
       "9      Nimble Books               1         2005  W. Frederick Zimmerman   \n",
       "\n",
       "    Rating        ISBN  \n",
       "Id                      \n",
       "2     4.50   439358078  \n",
       "4     4.42   439554896  \n",
       "5     4.57  043965548X  \n",
       "8     4.78   439682584  \n",
       "9     3.79   976540606  "
      ]
     },
     "execution_count": 2,
     "metadata": {},
     "output_type": "execute_result"
    }
   ],
   "source": [
    "data = pd.read_csv('data/books.csv', delimiter=';').set_index(\"Id\")\n",
    "data.head()"
   ]
  },
  {
   "cell_type": "markdown",
   "id": "461b994f",
   "metadata": {
    "deletable": false,
    "editable": false,
    "nbgrader": {
     "grade": false,
     "grade_id": "cell-45496da1b69fd9da",
     "locked": true,
     "schema_version": 3,
     "solution": false,
     "task": false
    }
   },
   "source": [
    "----"
   ]
  },
  {
   "cell_type": "markdown",
   "id": "4b80582f",
   "metadata": {
    "deletable": false,
    "editable": false,
    "nbgrader": {
     "grade": false,
     "grade_id": "cell-bcc1b9b0dd6afbdc",
     "locked": true,
     "schema_version": 3,
     "solution": false,
     "task": false
    }
   },
   "source": [
    "# Exercise 1\n",
    "\n",
    "Let's start by performing some descriptive statistics:\n",
    "\n",
    "- check how many values exist for each column\n",
    "- sum the `Rating` variable\n",
    "- check how many different years we have in the `PublishYear`"
   ]
  },
  {
   "cell_type": "code",
   "execution_count": 3,
   "id": "321d14e2",
   "metadata": {
    "deletable": false,
    "nbgrader": {
     "grade": false,
     "grade_id": "cell-db3ef45dd2026289",
     "locked": false,
     "schema_version": 3,
     "solution": true,
     "task": false
    }
   },
   "outputs": [
    {
     "name": "stdout",
     "output_type": "stream",
     "text": [
      "Name              57011\n",
      "pagesNumber       57011\n",
      "Publisher         57011\n",
      "CountsOfReview    57011\n",
      "PublishYear       57011\n",
      "Authors           57011\n",
      "Rating            57011\n",
      "ISBN              57011\n",
      "dtype: int64\n",
      "(57011, 8)\n",
      "208541.08000000002\n",
      "[2004 2003 2005 2002 1996 2001 2000 1990 1993 1997 1991 2012 2006 1994\n",
      " 2007 1982 1986 1999 1987 1984 1965 1998 1995 1960 2009 1988 1940 1964\n",
      " 1975 1957 1970 1962 1966 1989 1976 2011 1974 1955 1985 1972 1980 1969\n",
      " 2014 1983 1992 2008 1963 1978 1971 2010 1973 2019 2018 2015 1919 1921\n",
      " 1923 1945 1968 1958 1979 1922 1961 1977 1929 1924 1981 1912 1950 2013\n",
      " 1959 2017 2016 1900 1956 1938 1967 1947 1943 1953 1952 1948 1935 1954\n",
      " 1928 1949 1913 1925 1937 1914 1931 1951 1926 2020 3002 1942 1936 1946\n",
      " 1944 1933 1930 1934 1941  162 1850]\n"
     ]
    }
   ],
   "source": [
    "# count_missing_values = ...\n",
    "# sum_rating = ...\n",
    "# publish_years = ...  \n",
    "\n",
    "# YOUR CODE HERE\n",
    "\n",
    "count_values = data.count()\n",
    "print(count_values)\n",
    "print(data.shape)\n",
    "#no missing values\n",
    "\n",
    "sum_rating = data.Rating.sum()\n",
    "print(sum_rating)\n",
    "#total sum of the rating is 208541.08000000002\n",
    "\n",
    "publish_years = data.PublishYear.unique()\n",
    "print(publish_years)"
   ]
  },
  {
   "cell_type": "markdown",
   "id": "61c5c005",
   "metadata": {
    "deletable": false,
    "editable": false,
    "nbgrader": {
     "grade": false,
     "grade_id": "cell-f0d63ad196788ef4",
     "locked": true,
     "schema_version": 3,
     "solution": false,
     "task": false
    }
   },
   "source": [
    "##### Asserts"
   ]
  },
  {
   "cell_type": "code",
   "execution_count": 4,
   "id": "828d6d9a",
   "metadata": {
    "deletable": false,
    "editable": false,
    "nbgrader": {
     "grade": true,
     "grade_id": "cell-6a0888b546093ca7",
     "locked": true,
     "points": 3,
     "schema_version": 3,
     "solution": false,
     "task": false
    }
   },
   "outputs": [],
   "source": [
    "count_values_hash = \"dc7a392aa24445d85c639c640499a2dc31bb94b416d31c858b74dfa54cca6cc0\"\n",
    "sum_rating_hash = \"1be0c791d1c82aaae133a48d5cf9f4c488894a0eef3e354aa33d2e1741aae99c\"\n",
    "publish_years_hash = \"e048fc8ef688fbdf7d9717e944b0bc15ebb9774f2ffa8ec030b64d30a77d0d94\"\n",
    "\n",
    "assert count_values_hash == hashlib.sha256(bytes(count_values[0])).hexdigest(), \"Incorrect missing values count.\"\n",
    "assert sum_rating_hash == hashlib.sha256(bytes(sum_rating)).hexdigest(), \"Incorrect sum of ratings.\"\n",
    "assert publish_years_hash == hashlib.sha256(bytes(publish_years)).hexdigest(), \"Incorrect list of years.\""
   ]
  },
  {
   "cell_type": "markdown",
   "id": "d71d082a",
   "metadata": {
    "deletable": false,
    "editable": false,
    "nbgrader": {
     "grade": false,
     "grade_id": "cell-f0238b42976e21b6",
     "locked": true,
     "schema_version": 3,
     "solution": false,
     "task": false
    }
   },
   "source": [
    "# Exercise 2 \n",
    "\n",
    "Let's have a look at the `Rating` variable. Find the following information:\n",
    "\n",
    "- What are the minimum and maximum rating values?\n",
    "- What is the most common rating?\n",
    "- What is the average rating?\n",
    "- What is the median rating?\n",
    "- What is the standard deviation of the rating?"
   ]
  },
  {
   "cell_type": "code",
   "execution_count": 5,
   "id": "c8514142",
   "metadata": {
    "deletable": false,
    "nbgrader": {
     "grade": false,
     "grade_id": "cell-f893ab0625857775",
     "locked": false,
     "schema_version": 3,
     "solution": true,
     "task": false
    }
   },
   "outputs": [
    {
     "name": "stdout",
     "output_type": "stream",
     "text": [
      "5.0 0.0\n",
      "0.0\n",
      "3.65790952623178 3.9 1.0117947712534772\n"
     ]
    }
   ],
   "source": [
    "# maximum = ...\n",
    "# minimum = ...\n",
    "# most_common = ...  # Hint: you should return a number, not a pandas Series :)\n",
    "# mean = ...\n",
    "# median = ...\n",
    "# standard_deviation = ...\n",
    "\n",
    "# YOUR CODE HERE\n",
    "maximum = data.Rating.max()\n",
    "minimum = data.Rating.min()\n",
    "print(maximum, minimum)\n",
    "most_common = float(data.Rating.mode())\n",
    "print(most_common)\n",
    "\n",
    "mean = data.Rating.mean()\n",
    "median = data.Rating.median()\n",
    "standard_deviation = data.Rating.std()\n",
    "\n",
    "print(mean, median, standard_deviation)"
   ]
  },
  {
   "cell_type": "markdown",
   "id": "3d6b4cc9",
   "metadata": {
    "deletable": false,
    "editable": false,
    "nbgrader": {
     "grade": false,
     "grade_id": "cell-c22a9f82b7bfe509",
     "locked": true,
     "schema_version": 3,
     "solution": false,
     "task": false
    }
   },
   "source": [
    "##### Asserts"
   ]
  },
  {
   "cell_type": "code",
   "execution_count": 6,
   "id": "41f0e52a",
   "metadata": {
    "deletable": false,
    "editable": false,
    "nbgrader": {
     "grade": true,
     "grade_id": "cell-2e1e593c4b90770a",
     "locked": true,
     "points": 3,
     "schema_version": 3,
     "solution": false,
     "task": false
    }
   },
   "outputs": [],
   "source": [
    "np.testing.assert_approx_equal(maximum, 5.0)\n",
    "np.testing.assert_approx_equal(minimum, 0.0)\n",
    "assert isinstance(most_common, float), \"most_common should be of type float\"\n",
    "np.testing.assert_approx_equal(most_common, 0.0)\n",
    "np.testing.assert_approx_equal(mean, 3.66, 2)\n",
    "np.testing.assert_approx_equal(median, 3.90, 2)\n",
    "np.testing.assert_approx_equal(standard_deviation, 1.01, 2)"
   ]
  },
  {
   "cell_type": "markdown",
   "id": "ca2ae0a0",
   "metadata": {
    "deletable": false,
    "editable": false,
    "nbgrader": {
     "grade": false,
     "grade_id": "cell-0653bd3b2ce0963c",
     "locked": true,
     "schema_version": 3,
     "solution": false,
     "task": false
    }
   },
   "source": [
    "----"
   ]
  },
  {
   "cell_type": "markdown",
   "id": "f3c0e709",
   "metadata": {
    "deletable": false,
    "editable": false,
    "nbgrader": {
     "grade": false,
     "grade_id": "cell-679bef613b182f8b",
     "locked": true,
     "schema_version": 3,
     "solution": false,
     "task": false
    }
   },
   "source": [
    "# Exercise 3 \n",
    "\n",
    "Let's have a look at the `pagesNumber` variable.\n",
    "\n",
    "- How many pages has the biggest book? What is its Id? What is its Title?\n",
    "- How many pages has the smallest book? What is its Id? What is its Title?\n"
   ]
  },
  {
   "cell_type": "code",
   "execution_count": 7,
   "id": "1a5c542d",
   "metadata": {
    "deletable": false,
    "nbgrader": {
     "grade": false,
     "grade_id": "cell-b300d2b022a8934a",
     "locked": false,
     "schema_version": 3,
     "solution": true,
     "task": false
    }
   },
   "outputs": [
    {
     "name": "stdout",
     "output_type": "stream",
     "text": [
      "3454 31557 Encyclopedia of the Human Brain, Four-Volume Set\n",
      "0 955 The 5 Love Languages / The 5 Love Languages Journal\n"
     ]
    }
   ],
   "source": [
    "number_pages_biggest_book = data.pagesNumber.max()\n",
    "id_biggest_book = data.pagesNumber.idxmax()\n",
    "title_biggest_book = data.loc[data.pagesNumber.idxmax(), \"Name\"]\n",
    "\n",
    "number_pages_smallest_book = data.pagesNumber.min()\n",
    "id_smallest_book = data.pagesNumber.idxmin()\n",
    "title_smallest_book = data.loc[data.pagesNumber.idxmin(), \"Name\"]\n",
    "\n",
    "print(number_pages_biggest_book, id_biggest_book, title_biggest_book)\n",
    "print(number_pages_smallest_book, id_smallest_book, title_smallest_book)"
   ]
  },
  {
   "cell_type": "markdown",
   "id": "0e4941dc",
   "metadata": {
    "deletable": false,
    "editable": false,
    "nbgrader": {
     "grade": false,
     "grade_id": "cell-eaeb6adb7549556e",
     "locked": true,
     "schema_version": 3,
     "solution": false,
     "task": false
    }
   },
   "source": [
    "##### Asserts"
   ]
  },
  {
   "cell_type": "code",
   "execution_count": 8,
   "id": "b977c90d",
   "metadata": {
    "deletable": false,
    "editable": false,
    "nbgrader": {
     "grade": true,
     "grade_id": "cell-67191ee0157260db",
     "locked": true,
     "points": 2,
     "schema_version": 3,
     "solution": false,
     "task": false
    }
   },
   "outputs": [],
   "source": [
    "number_pages_biggest_book_hash = \"397cc9a4ac830eb287dcd4f6ad5fdbd9bb0356026b130790026f7d60415d90fa\"\n",
    "id_biggest_book_hash = \"c5abddc940877a43d0fea09d3df6136f27d0895c5245ae764b6ee2f85da722b7\"\n",
    "title_biggest_book_hash = \"6ce5428314264af44259505ed57cc744a8d80ad958481a1f712fec5adceb153f\"\n",
    "\n",
    "number_pages_smallest_book_hash = \"e3b0c44298fc1c149afbf4c8996fb92427ae41e4649b934ca495991b7852b855\"\n",
    "id_smallest_book_hash = \"11ba380b8f69673109f474ea4e91ea85b0733e1afa1aae9662a8c1b4f243485c\"\n",
    "title_smallest_book_hash = \"7ae602589ba763e06517cec687f4613b64c1bd7bd090de7cce09d1e36e6ca28c\"\n",
    "\n",
    "assert number_pages_biggest_book_hash == hashlib.sha256(bytes(number_pages_biggest_book)).hexdigest(), \"Wrong answer.\"\\\n",
    "\"Please check the number of pages of the biggest book.\"\n",
    "assert id_biggest_book_hash == hashlib.sha256(bytes(id_biggest_book)).hexdigest(), \"Wrong answer.\"\\\n",
    "\"Please check the id of the biggest book.\"\n",
    "assert title_biggest_book_hash == hashlib.sha256(bytes(title_biggest_book, \"utf-8\")).hexdigest(), \"Wrong answer.\"\\\n",
    "\"Please check the title of the biggest book.\"\n",
    "assert number_pages_smallest_book_hash == hashlib.sha256(bytes(number_pages_smallest_book)).hexdigest(), \"Wrong answer.\"\\\n",
    "\"Please check the number of pages of the smallest book.\"\n",
    "assert id_smallest_book_hash == hashlib.sha256(bytes(id_smallest_book)).hexdigest(), \"Wrong answer.\"\\\n",
    "\"Please check the id of the smallest book.\"\n",
    "assert title_smallest_book_hash == hashlib.sha256(bytes(title_smallest_book, \"utf-8\")).hexdigest(), \"Wrong answer.\"\\\n",
    "\"Please check the title of the smallest book.\""
   ]
  },
  {
   "cell_type": "markdown",
   "id": "d96a9cd2",
   "metadata": {
    "deletable": false,
    "editable": false,
    "nbgrader": {
     "grade": false,
     "grade_id": "cell-f0cb65d169697d0e",
     "locked": true,
     "schema_version": 3,
     "solution": false,
     "task": false
    }
   },
   "source": [
    "----"
   ]
  },
  {
   "cell_type": "markdown",
   "id": "97490715",
   "metadata": {
    "deletable": false,
    "editable": false,
    "nbgrader": {
     "grade": false,
     "grade_id": "cell-57947ea652e2cb18",
     "locked": true,
     "schema_version": 3,
     "solution": false,
     "task": false
    }
   },
   "source": [
    "# Exercise 4\n",
    "\n",
    "However, remember that `idxmax` and `idxmin` only return the index of the first of occurrence.\n",
    "\n",
    "Find how many books are rated with the maximum value."
   ]
  },
  {
   "cell_type": "code",
   "execution_count": 9,
   "id": "7bc5d797",
   "metadata": {
    "deletable": false,
    "nbgrader": {
     "grade": false,
     "grade_id": "cell-6b22a0341d2f6385",
     "locked": false,
     "schema_version": 3,
     "solution": true,
     "task": false
    }
   },
   "outputs": [
    {
     "name": "stdout",
     "output_type": "stream",
     "text": [
      "990\n"
     ]
    }
   ],
   "source": [
    "max_rated_books = len(data.loc[data.Rating == data.Rating.max()])\n",
    "print(max_rated_books)"
   ]
  },
  {
   "cell_type": "markdown",
   "id": "d2fc936a",
   "metadata": {
    "deletable": false,
    "editable": false,
    "nbgrader": {
     "grade": false,
     "grade_id": "cell-c1c2f930e69ad305",
     "locked": true,
     "schema_version": 3,
     "solution": false,
     "task": false
    }
   },
   "source": [
    "##### Asserts"
   ]
  },
  {
   "cell_type": "code",
   "execution_count": 10,
   "id": "d11f7a38",
   "metadata": {
    "deletable": false,
    "editable": false,
    "nbgrader": {
     "grade": true,
     "grade_id": "cell-144553185cf84ebb",
     "locked": true,
     "points": 2,
     "schema_version": 3,
     "solution": false,
     "task": false
    }
   },
   "outputs": [],
   "source": [
    "max_rated_books_hash = \"3449ddf7ca912858ea7e87b19040bf7b9b529099f50d0f3c3388c6c79083ae0b\"\n",
    "\n",
    "assert max_rated_books_hash == hashlib.sha256(bytes(max_rated_books)).hexdigest(), 'Not correct, try again.'"
   ]
  },
  {
   "cell_type": "markdown",
   "id": "90c2fd14",
   "metadata": {
    "deletable": false,
    "editable": false,
    "nbgrader": {
     "grade": false,
     "grade_id": "cell-fbef1df3f4225908",
     "locked": true,
     "schema_version": 3,
     "solution": false,
     "task": false
    }
   },
   "source": [
    "----"
   ]
  },
  {
   "cell_type": "markdown",
   "id": "08744361",
   "metadata": {
    "deletable": false,
    "editable": false,
    "nbgrader": {
     "grade": false,
     "grade_id": "cell-e5e777f2beb78dc4",
     "locked": true,
     "schema_version": 3,
     "solution": false,
     "task": false
    }
   },
   "source": [
    "# Exercise 5.1\n",
    "\n",
    "Let's check the distribution of `Rating`.\n",
    "\n",
    "- plot a histogram for the distribution of `Rating` with 20 bins\n",
    "- check the skewness of the distribution (do you expect it to be positive or negative?)"
   ]
  },
  {
   "cell_type": "code",
   "execution_count": 11,
   "id": "eea25c3d",
   "metadata": {
    "deletable": false,
    "nbgrader": {
     "grade": false,
     "grade_id": "cell-fbf5c7cb68a8f754",
     "locked": false,
     "schema_version": 3,
     "solution": true,
     "task": false
    }
   },
   "outputs": [
    {
     "name": "stdout",
     "output_type": "stream",
     "text": [
      "The skewness measure is -2.776.\n"
     ]
    },
    {
     "data": {
      "image/png": "[encoded data removed]",
      "text/plain": [
       "<Figure size 640x480 with 1 Axes>"
      ]
     },
     "metadata": {},
     "output_type": "display_data"
    }
   ],
   "source": [
    "# plot a histogram with 20 bins\n",
    "data.Rating.plot.hist(bins = 20)\n",
    "\n",
    "# compute the skewness measure\n",
    "skew = data.Rating.skew()\n",
    "kurt = data.Rating.kurt()\n",
    "\n",
    "\n",
    "print(\"The skewness measure is {:.3f}.\".format(skew))"
   ]
  },
  {
   "cell_type": "markdown",
   "id": "05159e24",
   "metadata": {
    "deletable": false,
    "editable": false,
    "nbgrader": {
     "grade": false,
     "grade_id": "cell-7f8a20acce7d6dcf",
     "locked": true,
     "schema_version": 3,
     "solution": false,
     "task": false
    }
   },
   "source": [
    "#### Asserts"
   ]
  },
  {
   "cell_type": "code",
   "execution_count": 12,
   "id": "7c15635d",
   "metadata": {
    "deletable": false,
    "editable": false,
    "nbgrader": {
     "grade": true,
     "grade_id": "cell-ddf87542e1483998",
     "locked": true,
     "points": 2,
     "schema_version": 3,
     "solution": false,
     "task": false
    }
   },
   "outputs": [],
   "source": [
    "np.testing.assert_approx_equal(skew, -2.776, 2)"
   ]
  },
  {
   "cell_type": "markdown",
   "id": "d8e59314",
   "metadata": {},
   "source": [
    "----"
   ]
  },
  {
   "cell_type": "markdown",
   "id": "87101e9a",
   "metadata": {
    "deletable": false,
    "editable": false,
    "nbgrader": {
     "grade": false,
     "grade_id": "cell-873d137d825b3b2e",
     "locked": true,
     "schema_version": 3,
     "solution": false,
     "task": false
    }
   },
   "source": [
    "# Exercise 5.2\n",
    "\n",
    "Let's now check the kurtosis for the plotted `Rating` distribution and compare it with a normal distribution with the same characteristics."
   ]
  },
  {
   "cell_type": "code",
   "execution_count": 13,
   "id": "32cad67a",
   "metadata": {
    "deletable": false,
    "editable": false,
    "nbgrader": {
     "grade": false,
     "grade_id": "cell-6bce3d40ad0eb946",
     "locked": true,
     "schema_version": 3,
     "solution": false,
     "task": false
    }
   },
   "outputs": [
    {
     "data": {
      "text/plain": [
       "<AxesSubplot:ylabel='Frequency'>"
      ]
     },
     "execution_count": 13,
     "metadata": {},
     "output_type": "execute_result"
    },
    {
     "data": {
      "image/png": "[encoded data removed]",
      "text/plain": [
       "<Figure size 640x480 with 1 Axes>"
      ]
     },
     "metadata": {},
     "output_type": "display_data"
    }
   ],
   "source": [
    "np.random.seed(42) # we set a random seed so all notebooks generate the same random numbers\n",
    "\n",
    "mean, std, n = data[\"Rating\"].mean(), data[\"Rating\"].std(), data[\"Rating\"].shape[0]\n",
    "random_normal_returns = np.random.normal(mean, std, n) # here, we generate the random normal distribution\n",
    "data_normal = pd.Series(data=random_normal_returns, index=data.index)\n",
    "\n",
    "data_normal.plot.hist(bins=20)"
   ]
  },
  {
   "cell_type": "code",
   "execution_count": 14,
   "id": "971800cd",
   "metadata": {
    "deletable": false,
    "nbgrader": {
     "grade": false,
     "grade_id": "cell-e381fd1f6015b1d0",
     "locked": false,
     "schema_version": 3,
     "solution": true,
     "task": false
    }
   },
   "outputs": [
    {
     "name": "stdout",
     "output_type": "stream",
     "text": [
      "The kurtosis measure for the data distribution is 7.5.\n",
      "The kurtosis measure for the random normal distribution is -0.0.\n"
     ]
    }
   ],
   "source": [
    "# compute the kurtosis measures\n",
    "kurt = data.Rating.kurt()\n",
    "kurt_normal = data_normal.kurt()\n",
    "\n",
    "\n",
    "print(\"The kurtosis measure for the data distribution is {:.1f}.\".format(kurt))\n",
    "print(\"The kurtosis measure for the random normal distribution is {:.1f}.\".format(kurt_normal))"
   ]
  },
  {
   "cell_type": "code",
   "execution_count": 15,
   "id": "d4dfdf72",
   "metadata": {
    "deletable": false,
    "editable": false,
    "nbgrader": {
     "grade": true,
     "grade_id": "cell-14cbf73f0cbf5bfa",
     "locked": true,
     "points": 2,
     "schema_version": 3,
     "solution": false,
     "task": false
    }
   },
   "outputs": [],
   "source": [
    "np.testing.assert_approx_equal(kurt, 7.5, 2)\n",
    "np.testing.assert_approx_equal(kurt_normal, 0, 0)"
   ]
  },
  {
   "cell_type": "markdown",
   "id": "e0c0a337",
   "metadata": {},
   "source": [
    "# Exercise 6\n",
    "\n",
    "Find the value of the first, second, and third quartiles of the plotted `Rating` distribution. Find also the value of the mean. Is the second quartile equal to the mean?"
   ]
  },
  {
   "cell_type": "code",
   "execution_count": 16,
   "id": "27795126",
   "metadata": {
    "deletable": false,
    "nbgrader": {
     "grade": false,
     "grade_id": "cell-bc6507803312a481",
     "locked": false,
     "schema_version": 3,
     "solution": true,
     "task": false
    }
   },
   "outputs": [
    {
     "name": "stdout",
     "output_type": "stream",
     "text": [
      "0.25    3.62\n",
      "0.50    3.90\n",
      "0.75    4.12\n",
      "Name: Rating, dtype: float64\n",
      "3.65790952623178\n"
     ]
    }
   ],
   "source": [
    "# output quartiles as pandas Series\n",
    "returns_quartiles = data.Rating.quantile(q=[0.25, 0.5, 0.75])\n",
    "mean_rating = data.Rating.mean()\n",
    "\n",
    "print(returns_quartiles)\n",
    "print(mean_rating)"
   ]
  },
  {
   "cell_type": "markdown",
   "id": "d34de9aa",
   "metadata": {
    "deletable": false,
    "editable": false,
    "nbgrader": {
     "grade": false,
     "grade_id": "cell-c50afe2aaadc6b38",
     "locked": true,
     "schema_version": 3,
     "solution": false,
     "task": false
    }
   },
   "source": [
    "#### Asserts"
   ]
  },
  {
   "cell_type": "code",
   "execution_count": 17,
   "id": "33be67e9",
   "metadata": {
    "deletable": false,
    "editable": false,
    "nbgrader": {
     "grade": true,
     "grade_id": "cell-2bb50c9c7ec62870",
     "locked": true,
     "points": 2,
     "schema_version": 3,
     "solution": false,
     "task": false
    }
   },
   "outputs": [],
   "source": [
    "assert isinstance(returns_quartiles, pd.Series)\n",
    "np.testing.assert_approx_equal(returns_quartiles[0.25], 3.62, 2)\n",
    "np.testing.assert_approx_equal(mean_rating, 3.657, 2)"
   ]
  },
  {
   "cell_type": "markdown",
   "id": "3533792a",
   "metadata": {
    "deletable": false,
    "editable": false,
    "nbgrader": {
     "grade": false,
     "grade_id": "cell-777f5398dff0d897",
     "locked": true,
     "schema_version": 3,
     "solution": false,
     "task": false
    }
   },
   "source": [
    "----"
   ]
  },
  {
   "cell_type": "markdown",
   "id": "76f8d29a",
   "metadata": {
    "deletable": false,
    "editable": false,
    "nbgrader": {
     "grade": false,
     "grade_id": "cell-9b49894718f512f0",
     "locked": true,
     "schema_version": 3,
     "solution": false,
     "task": false
    }
   },
   "source": [
    "# Exercise 7\n",
    "\n",
    "There's a pandas method really useful to summarize variables. Do you remember what it is?\n",
    "\n",
    "Apply the method on the `CountsOfReview` column and investigate the results."
   ]
  },
  {
   "cell_type": "code",
   "execution_count": 18,
   "id": "e6df7cef",
   "metadata": {
    "deletable": false,
    "nbgrader": {
     "grade": false,
     "grade_id": "cell-71c1572ac509ebc6",
     "locked": false,
     "schema_version": 3,
     "solution": true,
     "task": false
    }
   },
   "outputs": [
    {
     "name": "stdout",
     "output_type": "stream",
     "text": [
      "count    57011.000000\n",
      "mean       138.301819\n",
      "std       1150.434280\n",
      "min          0.000000\n",
      "25%          0.000000\n",
      "50%          4.000000\n",
      "75%         31.000000\n",
      "max      94850.000000\n",
      "Name: CountsOfReview, dtype: float64\n"
     ]
    }
   ],
   "source": [
    "CountsOfReview_summary = data.CountsOfReview.describe()\n",
    "print(CountsOfReview_summary)\n"
   ]
  },
  {
   "cell_type": "markdown",
   "id": "22190bb9",
   "metadata": {
    "deletable": false,
    "editable": false,
    "nbgrader": {
     "grade": false,
     "grade_id": "cell-0d2c54861b241dfe",
     "locked": true,
     "schema_version": 3,
     "solution": false,
     "task": false
    }
   },
   "source": [
    "#### Asserts"
   ]
  },
  {
   "cell_type": "code",
   "execution_count": 19,
   "id": "6c858f41",
   "metadata": {
    "deletable": false,
    "editable": false,
    "nbgrader": {
     "grade": true,
     "grade_id": "cell-6afcb287625277e3",
     "locked": true,
     "points": 1,
     "schema_version": 3,
     "solution": false,
     "task": false
    }
   },
   "outputs": [],
   "source": [
    "assert isinstance(CountsOfReview_summary, pd.Series), \"Make sure you apply the correct method.\" \\\n",
    "\" It is used to 'describe' the variable. :)\"\n",
    "np.testing.assert_approx_equal(CountsOfReview_summary.max(), 94850.0, 2)"
   ]
  },
  {
   "cell_type": "markdown",
   "id": "78e70cc6",
   "metadata": {
    "deletable": false,
    "editable": false,
    "nbgrader": {
     "grade": false,
     "grade_id": "cell-bcc9dafc80ef1452",
     "locked": true,
     "schema_version": 3,
     "solution": false,
     "task": false
    }
   },
   "source": [
    "----"
   ]
  },
  {
   "cell_type": "markdown",
   "id": "297d5dbc",
   "metadata": {
    "deletable": false,
    "editable": false,
    "nbgrader": {
     "grade": false,
     "grade_id": "cell-2b4043cfc26c4dcd",
     "locked": true,
     "schema_version": 3,
     "solution": false,
     "task": false
    }
   },
   "source": [
    "# Exercise 8\n",
    "\n",
    "Let's focus on the outliers for the `CountsOfReview`. First let's check if our data has 0 counts of review:"
   ]
  },
  {
   "cell_type": "code",
   "execution_count": 20,
   "id": "d2ac246d",
   "metadata": {
    "deletable": false,
    "editable": false,
    "nbgrader": {
     "grade": false,
     "grade_id": "cell-b0f6c3df8056eeb1",
     "locked": true,
     "schema_version": 3,
     "solution": false,
     "task": false
    }
   },
   "outputs": [
    {
     "data": {
      "text/html": [
       "<div>\n",
       "<style scoped>\n",
       "    .dataframe tbody tr th:only-of-type {\n",
       "        vertical-align: middle;\n",
       "    }\n",
       "\n",
       "    .dataframe tbody tr th {\n",
       "        vertical-align: top;\n",
       "    }\n",
       "\n",
       "    .dataframe thead th {\n",
       "        text-align: right;\n",
       "    }\n",
       "</style>\n",
       "<table border=\"1\" class=\"dataframe\">\n",
       "  <thead>\n",
       "    <tr style=\"text-align: right;\">\n",
       "      <th></th>\n",
       "      <th>Name</th>\n",
       "      <th>pagesNumber</th>\n",
       "      <th>Publisher</th>\n",
       "      <th>CountsOfReview</th>\n",
       "      <th>PublishYear</th>\n",
       "      <th>Authors</th>\n",
       "      <th>Rating</th>\n",
       "      <th>ISBN</th>\n",
       "    </tr>\n",
       "    <tr>\n",
       "      <th>Id</th>\n",
       "      <th></th>\n",
       "      <th></th>\n",
       "      <th></th>\n",
       "      <th></th>\n",
       "      <th></th>\n",
       "      <th></th>\n",
       "      <th></th>\n",
       "      <th></th>\n",
       "    </tr>\n",
       "  </thead>\n",
       "  <tbody>\n",
       "    <tr>\n",
       "      <th>46</th>\n",
       "      <td>Ruby Quickly: Ruby and Rails for the Real World</td>\n",
       "      <td>360</td>\n",
       "      <td>Manning Publications</td>\n",
       "      <td>0</td>\n",
       "      <td>2006</td>\n",
       "      <td>Mark   Watson</td>\n",
       "      <td>3.40</td>\n",
       "      <td>1932394745</td>\n",
       "    </tr>\n",
       "    <tr>\n",
       "      <th>54</th>\n",
       "      <td>Molly Hatchet - 5 of the Best</td>\n",
       "      <td>56</td>\n",
       "      <td>Cherry Lane Music Company</td>\n",
       "      <td>0</td>\n",
       "      <td>2003</td>\n",
       "      <td>Molly Hatchet</td>\n",
       "      <td>4.33</td>\n",
       "      <td>1575606240</td>\n",
       "    </tr>\n",
       "    <tr>\n",
       "      <th>56</th>\n",
       "      <td>The Woodsman and His Hatchet: Eighty Years on ...</td>\n",
       "      <td>150</td>\n",
       "      <td>Stoneydale Press</td>\n",
       "      <td>0</td>\n",
       "      <td>1996</td>\n",
       "      <td>Bud Cheff Sr.</td>\n",
       "      <td>3.60</td>\n",
       "      <td>912299622</td>\n",
       "    </tr>\n",
       "    <tr>\n",
       "      <th>108</th>\n",
       "      <td>The Secrets of Frank Herbert's Dune</td>\n",
       "      <td>160</td>\n",
       "      <td>iBooks</td>\n",
       "      <td>0</td>\n",
       "      <td>2000</td>\n",
       "      <td>James Van Hise</td>\n",
       "      <td>3.52</td>\n",
       "      <td>074340730X</td>\n",
       "    </tr>\n",
       "    <tr>\n",
       "      <th>131</th>\n",
       "      <td>The Power of One: The Solo Play for Playwright...</td>\n",
       "      <td>240</td>\n",
       "      <td>Heinemann Drama</td>\n",
       "      <td>0</td>\n",
       "      <td>2000</td>\n",
       "      <td>Louis E. Catron</td>\n",
       "      <td>3.67</td>\n",
       "      <td>325001537</td>\n",
       "    </tr>\n",
       "  </tbody>\n",
       "</table>\n",
       "</div>"
      ],
      "text/plain": [
       "                                                  Name  pagesNumber  \\\n",
       "Id                                                                    \n",
       "46     Ruby Quickly: Ruby and Rails for the Real World          360   \n",
       "54                       Molly Hatchet - 5 of the Best           56   \n",
       "56   The Woodsman and His Hatchet: Eighty Years on ...          150   \n",
       "108                The Secrets of Frank Herbert's Dune          160   \n",
       "131  The Power of One: The Solo Play for Playwright...          240   \n",
       "\n",
       "                     Publisher  CountsOfReview  PublishYear          Authors  \\\n",
       "Id                                                                             \n",
       "46        Manning Publications               0         2006    Mark   Watson   \n",
       "54   Cherry Lane Music Company               0         2003    Molly Hatchet   \n",
       "56            Stoneydale Press               0         1996    Bud Cheff Sr.   \n",
       "108                     iBooks               0         2000   James Van Hise   \n",
       "131            Heinemann Drama               0         2000  Louis E. Catron   \n",
       "\n",
       "     Rating        ISBN  \n",
       "Id                       \n",
       "46     3.40  1932394745  \n",
       "54     4.33  1575606240  \n",
       "56     3.60   912299622  \n",
       "108    3.52  074340730X  \n",
       "131    3.67   325001537  "
      ]
     },
     "execution_count": 20,
     "metadata": {},
     "output_type": "execute_result"
    }
   ],
   "source": [
    "data.loc[data[\"CountsOfReview\"] == 0].head()"
   ]
  },
  {
   "cell_type": "markdown",
   "id": "ed893477",
   "metadata": {
    "deletable": false,
    "editable": false,
    "nbgrader": {
     "grade": false,
     "grade_id": "cell-622fb473302c4c9d",
     "locked": true,
     "schema_version": 3,
     "solution": false,
     "task": false
    }
   },
   "source": [
    "There are several `CountsOfReview` with 0. To simplify for now, let's drop them."
   ]
  },
  {
   "cell_type": "code",
   "execution_count": 21,
   "id": "df6af666",
   "metadata": {
    "deletable": false,
    "editable": false,
    "nbgrader": {
     "grade": false,
     "grade_id": "cell-8da6533b323210b6",
     "locked": true,
     "schema_version": 3,
     "solution": false,
     "task": false
    }
   },
   "outputs": [],
   "source": [
    "data_non_zero = data.drop(data.loc[data[\"CountsOfReview\"] == 0].index, axis=0)"
   ]
  },
  {
   "cell_type": "markdown",
   "id": "204e5661",
   "metadata": {
    "deletable": false,
    "editable": false,
    "nbgrader": {
     "grade": false,
     "grade_id": "cell-d0f4464e0207ec05",
     "locked": true,
     "schema_version": 3,
     "solution": false,
     "task": false
    }
   },
   "source": [
    "How to deal with these outliers?\n",
    "\n",
    "In the Learning Notebook, you learned a few ways to deal with the outliers, in case they are negatively affecting your Machine Learning models. In this exercise, let's explore the **log transformation** and see if it helps us in this case.\n",
    "\n",
    "Do the following:\n",
    "\n",
    "- Obtain the mean and the median of the `CountsOfReview`; which one is greater?\n",
    "- Create a new column named `log_CountsOfReview` with the log of  `CountsOfReview`;\n",
    "- Obtain the mean and the median of the log of `CountsOfReview`; are they very different from each other?\n",
    "- Plot `log_CountsOfReview` using a histogram with 20 bins. Compare the results.\n",
    "- What do you think? Were the outliers dealt with?"
   ]
  },
  {
   "cell_type": "code",
   "execution_count": 22,
   "id": "624c597b",
   "metadata": {
    "deletable": false,
    "nbgrader": {
     "grade": false,
     "grade_id": "cell-2b472fdac56e8a22",
     "locked": false,
     "schema_version": 3,
     "solution": true,
     "task": false
    }
   },
   "outputs": [
    {
     "name": "stdout",
     "output_type": "stream",
     "text": [
      "The CountsOfReview has mean 188 and median 12\n",
      "The log of the CountsOfReview has mean 2.7 and median 2.5\n"
     ]
    },
    {
     "data": {
      "image/png": "[encoded data removed]",
      "text/plain": [
       "<Figure size 640x480 with 1 Axes>"
      ]
     },
     "metadata": {},
     "output_type": "display_data"
    }
   ],
   "source": [
    "counts_of_review_mean = data_non_zero.CountsOfReview.mean()\n",
    "counts_of_review_median = data_non_zero.CountsOfReview.median()\n",
    "data_non_zero[\"log_CountsOfReview\"] = np.log(data_non_zero.CountsOfReview)\n",
    "log_counts_of_review_mean = data_non_zero.log_CountsOfReview.mean()\n",
    "log_counts_of_review_median = data_non_zero.log_CountsOfReview.median()\n",
    "\n",
    "# plot a histogram with 20 bins\n",
    "data_non_zero.log_CountsOfReview.plot.hist(bins=20);\n",
    "\n",
    "print('The CountsOfReview has mean %d and median %d' % (counts_of_review_mean, counts_of_review_median))\n",
    "print('The log of the CountsOfReview has mean %0.1f and median %0.1f' % (log_counts_of_review_mean, log_counts_of_review_median))"
   ]
  },
  {
   "cell_type": "markdown",
   "id": "c21773ce",
   "metadata": {
    "deletable": false,
    "editable": false,
    "nbgrader": {
     "grade": false,
     "grade_id": "cell-706bcebafe638c07",
     "locked": true,
     "schema_version": 3,
     "solution": false,
     "task": false
    }
   },
   "source": [
    "#### Asserts"
   ]
  },
  {
   "cell_type": "code",
   "execution_count": 23,
   "id": "d02223a3",
   "metadata": {
    "deletable": false,
    "editable": false,
    "nbgrader": {
     "grade": true,
     "grade_id": "cell-a74bd72b6c871c6d",
     "locked": true,
     "points": 3,
     "schema_version": 3,
     "solution": false,
     "task": false
    }
   },
   "outputs": [],
   "source": [
    "assert math.isclose(counts_of_review_mean, 188.1, abs_tol=0.1)\n",
    "assert math.isclose(counts_of_review_median, 12, abs_tol=0.1)\n",
    "assert math.isclose(log_counts_of_review_mean, 2.72, abs_tol=0.01)\n",
    "assert math.isclose(log_counts_of_review_median, 2.48, abs_tol=0.01)\n",
    "assert math.isclose(data_non_zero['log_CountsOfReview'].sum(), 114053.23, abs_tol=0.1)"
   ]
  },
  {
   "cell_type": "markdown",
   "id": "cbac797a",
   "metadata": {
    "deletable": false,
    "editable": false,
    "nbgrader": {
     "grade": false,
     "grade_id": "cell-64505d93fe4769a6",
     "locked": true,
     "schema_version": 3,
     "solution": false,
     "task": false
    }
   },
   "source": [
    "----"
   ]
  },
  {
   "cell_type": "markdown",
   "id": "b72ade33",
   "metadata": {
    "deletable": false,
    "editable": false,
    "nbgrader": {
     "grade": false,
     "grade_id": "cell-ab0e4d148dab7cfd",
     "locked": true,
     "schema_version": 3,
     "solution": false,
     "task": false
    }
   },
   "source": [
    "Congratulations! You have finished. Good luck with the upcoming SLUs!\n",
    "\n",
    "\n",
    "![](media/complete.gif)"
   ]
  }
 ],
 "metadata": {
  "kernelspec": {
   "display_name": "Python 3 (ipykernel)",
   "language": "python",
   "name": "python3"
  },
  "language_info": {
   "codemirror_mode": {
    "name": "ipython",
    "version": 3
   },
   "file_extension": ".py",
   "mimetype": "text/x-python",
   "name": "python",
   "nbconvert_exporter": "python",
   "pygments_lexer": "ipython3",
   "version": "3.8.14"
  },
  "varInspector": {
   "cols": {
    "lenName": 16,
    "lenType": 16,
    "lenVar": 40
   },
   "kernels_config": {
    "python": {
     "delete_cmd_postfix": "",
     "delete_cmd_prefix": "del ",
     "library": "var_list.py",
     "varRefreshCmd": "print(var_dic_list())"
    },
    "r": {
     "delete_cmd_postfix": ") ",
     "delete_cmd_prefix": "rm(",
     "library": "var_list.r",
     "varRefreshCmd": "cat(var_dic_list()) "
    }
   },
   "types_to_exclude": [
    "module",
    "function",
    "builtin_function_or_method",
    "instance",
    "_Feature"
   ],
   "window_display": false
  }
 },
 "nbformat": 4,
 "nbformat_minor": 5
}
