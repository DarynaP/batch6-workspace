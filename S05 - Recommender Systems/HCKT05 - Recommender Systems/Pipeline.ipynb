{
 "cells": [
  {
   "cell_type": "code",
   "execution_count": 2,
   "metadata": {},
   "outputs": [],
   "source": [
    "# Operating System\n",
    "import os\n",
    "import gc\n",
    "\n",
    "# Numpy, Pandas and Scipy\n",
    "import numpy as np\n",
    "import pandas as pd\n",
    "import random\n",
    "\n",
    "# Scikit-learn\n",
    "from sklearn.model_selection import train_test_split\n",
    "from sklearn.preprocessing import StandardScaler\n",
    "\n",
    "# LightFM\n",
    "from lightfm import LightFM\n",
    "from lightfm.data import Dataset as lfmDataset \n",
    "\n",
    "# Surprise\n",
    "from surprise import SVD\n",
    "from surprise import Dataset as sDataset\n",
    "from surprise import Reader\n",
    "\n",
    "# Model Evaluation\n",
    "from evaluation import evaluate_solution\n",
    "\n",
    "# RAM control\n",
    "from ramcontrol import check_memory_limit, memory_circuit_breaker\n",
    "\n",
    "\n"
   ]
  },
  {
   "cell_type": "code",
   "execution_count": 13,
   "metadata": {},
   "outputs": [],
   "source": [
    "import datetime"
   ]
  },
  {
   "cell_type": "code",
   "execution_count": 3,
   "metadata": {},
   "outputs": [],
   "source": [
    "memory_limit_perc = 70."
   ]
  },
  {
   "cell_type": "markdown",
   "metadata": {},
   "source": [
    "# Simplified Pipeline\n",
    "\n",
    "The following cells provide a simplified template of the steps used on part 1 of the BLU12 Learning Notebook. These steps are not the only way to get a RS up and running and we encourage you to tweak them as you see fit."
   ]
  },
  {
   "attachments": {},
   "cell_type": "markdown",
   "metadata": {},
   "source": [
    "Creating a function to save the recomendation as csv file !"
   ]
  },
  {
   "cell_type": "code",
   "execution_count": 4,
   "metadata": {},
   "outputs": [],
   "source": [
    "def save_recommendations(df: pd.DataFrame, file_name: str):\n",
    "    \"\"\"\n",
    "    Save recommendation dataframe as .csv.\n",
    "    \"\"\"\n",
    "    \n",
    "    file_path = os.path.join(\"data\", f\"{file_name}.csv\")\n",
    "    df.to_csv(file_path, index=False, header=False)\n",
    "    print(f\"Recommendations were saved on file {file_name}.csv.\")\n"
   ]
  },
  {
   "cell_type": "markdown",
   "metadata": {},
   "source": [
    "## Understanding the data\n",
    "\n",
    "- The dataset that you selected is appropriated for building a RS?\n",
    "- Do you have data regarding the items or only about the users' preference?\n",
    "- Do you have a test dataset or do you have to create it?"
   ]
  },
  {
   "cell_type": "markdown",
   "metadata": {},
   "source": [
    "## Load the Data"
   ]
  },
  {
   "cell_type": "code",
   "execution_count": 5,
   "metadata": {},
   "outputs": [
    {
     "name": "stderr",
     "output_type": "stream",
     "text": [
      "/tmp/ipykernel_377/1056469963.py:1: DtypeWarning: Columns (0) have mixed types. Specify dtype option on import or set low_memory=False.\n",
      "  ratings = pd.read_csv('data/train_ratings.csv')\n"
     ]
    },
    {
     "data": {
      "text/html": [
       "<div>\n",
       "<style scoped>\n",
       "    .dataframe tbody tr th:only-of-type {\n",
       "        vertical-align: middle;\n",
       "    }\n",
       "\n",
       "    .dataframe tbody tr th {\n",
       "        vertical-align: top;\n",
       "    }\n",
       "\n",
       "    .dataframe thead th {\n",
       "        text-align: right;\n",
       "    }\n",
       "</style>\n",
       "<table border=\"1\" class=\"dataframe\">\n",
       "  <thead>\n",
       "    <tr style=\"text-align: right;\">\n",
       "      <th></th>\n",
       "      <th>beer_id</th>\n",
       "      <th>user_name</th>\n",
       "      <th>review_score</th>\n",
       "      <th>review_time</th>\n",
       "    </tr>\n",
       "  </thead>\n",
       "  <tbody>\n",
       "    <tr>\n",
       "      <th>0</th>\n",
       "      <td>63836</td>\n",
       "      <td>hopdog</td>\n",
       "      <td>13/20</td>\n",
       "      <td>1157587200</td>\n",
       "    </tr>\n",
       "    <tr>\n",
       "      <th>1</th>\n",
       "      <td>63836</td>\n",
       "      <td>TomDecapolis</td>\n",
       "      <td>13/20</td>\n",
       "      <td>1157241600</td>\n",
       "    </tr>\n",
       "    <tr>\n",
       "      <th>2</th>\n",
       "      <td>71716</td>\n",
       "      <td>PhillyBeer2112</td>\n",
       "      <td>14/20</td>\n",
       "      <td>958694400</td>\n",
       "    </tr>\n",
       "    <tr>\n",
       "      <th>3</th>\n",
       "      <td>64125</td>\n",
       "      <td>TomDecapolis</td>\n",
       "      <td>8/20</td>\n",
       "      <td>1157587200</td>\n",
       "    </tr>\n",
       "    <tr>\n",
       "      <th>4</th>\n",
       "      <td>64125</td>\n",
       "      <td>hopdog</td>\n",
       "      <td>8/20</td>\n",
       "      <td>1157587200</td>\n",
       "    </tr>\n",
       "  </tbody>\n",
       "</table>\n",
       "</div>"
      ],
      "text/plain": [
       "  beer_id       user_name review_score  review_time\n",
       "0   63836          hopdog        13/20   1157587200\n",
       "1   63836    TomDecapolis        13/20   1157241600\n",
       "2   71716  PhillyBeer2112        14/20    958694400\n",
       "3   64125    TomDecapolis         8/20   1157587200\n",
       "4   64125          hopdog         8/20   1157587200"
      ]
     },
     "execution_count": 5,
     "metadata": {},
     "output_type": "execute_result"
    }
   ],
   "source": [
    "ratings = pd.read_csv('data/train_ratings.csv')\n",
    "ratings.head()"
   ]
  },
  {
   "cell_type": "code",
   "execution_count": 6,
   "metadata": {},
   "outputs": [
    {
     "name": "stdout",
     "output_type": "stream",
     "text": [
      "We have 2,838,374 ratings in total.\n"
     ]
    }
   ],
   "source": [
    "# How many ratings do we have in total?\n",
    "# Tip: The \":,\" at the end of the f-string adds the thousand separator.\n",
    "print(f\"We have {len(ratings):,} ratings in total.\")"
   ]
  },
  {
   "cell_type": "code",
   "execution_count": 8,
   "metadata": {},
   "outputs": [
    {
     "name": "stdout",
     "output_type": "stream",
     "text": [
      " We have 109,833 beers rated.\n"
     ]
    }
   ],
   "source": [
    "#How many books where rated\n",
    "print(f\" We have {ratings['beer_id'].unique().size:,} beers rated.\")"
   ]
  },
  {
   "cell_type": "code",
   "execution_count": 10,
   "metadata": {},
   "outputs": [
    {
     "name": "stdout",
     "output_type": "stream",
     "text": [
      " We have 29,027 users that rated at least one beer.\n"
     ]
    }
   ],
   "source": [
    "# How many users rated at least one book?\n",
    "print(f\" We have {ratings['user_name'].unique().size:,} users that rated at least one beer.\")"
   ]
  },
  {
   "attachments": {},
   "cell_type": "markdown",
   "metadata": {},
   "source": [
    "books_ratings dataframe seems to be clean"
   ]
  },
  {
   "cell_type": "code",
   "execution_count": 157,
   "metadata": {},
   "outputs": [
    {
     "name": "stderr",
     "output_type": "stream",
     "text": [
      "/tmp/ipykernel_235/163244608.py:1: DtypeWarning: Columns (3) have mixed types. Specify dtype option on import or set low_memory=False.\n",
      "  books = pd.read_csv('books_data/BX-Books.csv', sep = ';',\n"
     ]
    },
    {
     "data": {
      "text/html": [
       "<div>\n",
       "<style scoped>\n",
       "    .dataframe tbody tr th:only-of-type {\n",
       "        vertical-align: middle;\n",
       "    }\n",
       "\n",
       "    .dataframe tbody tr th {\n",
       "        vertical-align: top;\n",
       "    }\n",
       "\n",
       "    .dataframe thead th {\n",
       "        text-align: right;\n",
       "    }\n",
       "</style>\n",
       "<table border=\"1\" class=\"dataframe\">\n",
       "  <thead>\n",
       "    <tr style=\"text-align: right;\">\n",
       "      <th></th>\n",
       "      <th>ISBN</th>\n",
       "      <th>Book-Title</th>\n",
       "      <th>Book-Author</th>\n",
       "      <th>Year-Of-Publication</th>\n",
       "      <th>Publisher</th>\n",
       "      <th>Image-URL-S</th>\n",
       "      <th>Image-URL-M</th>\n",
       "      <th>Image-URL-L</th>\n",
       "    </tr>\n",
       "  </thead>\n",
       "  <tbody>\n",
       "    <tr>\n",
       "      <th>0</th>\n",
       "      <td>0195153448</td>\n",
       "      <td>Classical Mythology</td>\n",
       "      <td>Mark P. O. Morford</td>\n",
       "      <td>2002</td>\n",
       "      <td>Oxford University Press</td>\n",
       "      <td>http://images.amazon.com/images/P/0195153448.0...</td>\n",
       "      <td>http://images.amazon.com/images/P/0195153448.0...</td>\n",
       "      <td>http://images.amazon.com/images/P/0195153448.0...</td>\n",
       "    </tr>\n",
       "    <tr>\n",
       "      <th>1</th>\n",
       "      <td>0002005018</td>\n",
       "      <td>Clara Callan</td>\n",
       "      <td>Richard Bruce Wright</td>\n",
       "      <td>2001</td>\n",
       "      <td>HarperFlamingo Canada</td>\n",
       "      <td>http://images.amazon.com/images/P/0002005018.0...</td>\n",
       "      <td>http://images.amazon.com/images/P/0002005018.0...</td>\n",
       "      <td>http://images.amazon.com/images/P/0002005018.0...</td>\n",
       "    </tr>\n",
       "    <tr>\n",
       "      <th>2</th>\n",
       "      <td>0060973129</td>\n",
       "      <td>Decision in Normandy</td>\n",
       "      <td>Carlo D'Este</td>\n",
       "      <td>1991</td>\n",
       "      <td>HarperPerennial</td>\n",
       "      <td>http://images.amazon.com/images/P/0060973129.0...</td>\n",
       "      <td>http://images.amazon.com/images/P/0060973129.0...</td>\n",
       "      <td>http://images.amazon.com/images/P/0060973129.0...</td>\n",
       "    </tr>\n",
       "    <tr>\n",
       "      <th>3</th>\n",
       "      <td>0374157065</td>\n",
       "      <td>Flu: The Story of the Great Influenza Pandemic...</td>\n",
       "      <td>Gina Bari Kolata</td>\n",
       "      <td>1999</td>\n",
       "      <td>Farrar Straus Giroux</td>\n",
       "      <td>http://images.amazon.com/images/P/0374157065.0...</td>\n",
       "      <td>http://images.amazon.com/images/P/0374157065.0...</td>\n",
       "      <td>http://images.amazon.com/images/P/0374157065.0...</td>\n",
       "    </tr>\n",
       "    <tr>\n",
       "      <th>4</th>\n",
       "      <td>0393045218</td>\n",
       "      <td>The Mummies of Urumchi</td>\n",
       "      <td>E. J. W. Barber</td>\n",
       "      <td>1999</td>\n",
       "      <td>W. W. Norton &amp;amp; Company</td>\n",
       "      <td>http://images.amazon.com/images/P/0393045218.0...</td>\n",
       "      <td>http://images.amazon.com/images/P/0393045218.0...</td>\n",
       "      <td>http://images.amazon.com/images/P/0393045218.0...</td>\n",
       "    </tr>\n",
       "  </tbody>\n",
       "</table>\n",
       "</div>"
      ],
      "text/plain": [
       "         ISBN                                         Book-Title  \\\n",
       "0  0195153448                                Classical Mythology   \n",
       "1  0002005018                                       Clara Callan   \n",
       "2  0060973129                               Decision in Normandy   \n",
       "3  0374157065  Flu: The Story of the Great Influenza Pandemic...   \n",
       "4  0393045218                             The Mummies of Urumchi   \n",
       "\n",
       "            Book-Author Year-Of-Publication                   Publisher  \\\n",
       "0    Mark P. O. Morford                2002     Oxford University Press   \n",
       "1  Richard Bruce Wright                2001       HarperFlamingo Canada   \n",
       "2          Carlo D'Este                1991             HarperPerennial   \n",
       "3      Gina Bari Kolata                1999        Farrar Straus Giroux   \n",
       "4       E. J. W. Barber                1999  W. W. Norton &amp; Company   \n",
       "\n",
       "                                         Image-URL-S  \\\n",
       "0  http://images.amazon.com/images/P/0195153448.0...   \n",
       "1  http://images.amazon.com/images/P/0002005018.0...   \n",
       "2  http://images.amazon.com/images/P/0060973129.0...   \n",
       "3  http://images.amazon.com/images/P/0374157065.0...   \n",
       "4  http://images.amazon.com/images/P/0393045218.0...   \n",
       "\n",
       "                                         Image-URL-M  \\\n",
       "0  http://images.amazon.com/images/P/0195153448.0...   \n",
       "1  http://images.amazon.com/images/P/0002005018.0...   \n",
       "2  http://images.amazon.com/images/P/0060973129.0...   \n",
       "3  http://images.amazon.com/images/P/0374157065.0...   \n",
       "4  http://images.amazon.com/images/P/0393045218.0...   \n",
       "\n",
       "                                         Image-URL-L  \n",
       "0  http://images.amazon.com/images/P/0195153448.0...  \n",
       "1  http://images.amazon.com/images/P/0002005018.0...  \n",
       "2  http://images.amazon.com/images/P/0060973129.0...  \n",
       "3  http://images.amazon.com/images/P/0374157065.0...  \n",
       "4  http://images.amazon.com/images/P/0393045218.0...  "
      ]
     },
     "execution_count": 157,
     "metadata": {},
     "output_type": "execute_result"
    }
   ],
   "source": [
    "books = pd.read_csv('books_data/BX-Books.csv', sep = ';', \n",
    "encoding= 'unicode_escape', on_bad_lines='skip')\n",
    "books.head()"
   ]
  },
  {
   "cell_type": "code",
   "execution_count": 158,
   "metadata": {},
   "outputs": [
    {
     "data": {
      "text/plain": [
       "ISBN                   object\n",
       "Book-Title             object\n",
       "Book-Author            object\n",
       "Year-Of-Publication    object\n",
       "Publisher              object\n",
       "Image-URL-S            object\n",
       "Image-URL-M            object\n",
       "Image-URL-L            object\n",
       "dtype: object"
      ]
     },
     "execution_count": 158,
     "metadata": {},
     "output_type": "execute_result"
    }
   ],
   "source": [
    "books.dtypes"
   ]
  },
  {
   "cell_type": "code",
   "execution_count": 159,
   "metadata": {},
   "outputs": [
    {
     "data": {
      "text/plain": [
       "Index(['ISBN', 'Book-Title', 'Book-Author', 'Year-Of-Publication', 'Publisher',\n",
       "       'Image-URL-S', 'Image-URL-M', 'Image-URL-L'],\n",
       "      dtype='object')"
      ]
     },
     "execution_count": 159,
     "metadata": {},
     "output_type": "execute_result"
    }
   ],
   "source": [
    "books.columns"
   ]
  },
  {
   "cell_type": "code",
   "execution_count": 160,
   "metadata": {},
   "outputs": [
    {
     "data": {
      "text/html": [
       "<div>\n",
       "<style scoped>\n",
       "    .dataframe tbody tr th:only-of-type {\n",
       "        vertical-align: middle;\n",
       "    }\n",
       "\n",
       "    .dataframe tbody tr th {\n",
       "        vertical-align: top;\n",
       "    }\n",
       "\n",
       "    .dataframe thead th {\n",
       "        text-align: right;\n",
       "    }\n",
       "</style>\n",
       "<table border=\"1\" class=\"dataframe\">\n",
       "  <thead>\n",
       "    <tr style=\"text-align: right;\">\n",
       "      <th></th>\n",
       "      <th>User-ID</th>\n",
       "      <th>Location</th>\n",
       "      <th>Age</th>\n",
       "    </tr>\n",
       "  </thead>\n",
       "  <tbody>\n",
       "    <tr>\n",
       "      <th>0</th>\n",
       "      <td>1</td>\n",
       "      <td>nyc, new york, usa</td>\n",
       "      <td>NaN</td>\n",
       "    </tr>\n",
       "    <tr>\n",
       "      <th>1</th>\n",
       "      <td>2</td>\n",
       "      <td>stockton, california, usa</td>\n",
       "      <td>18.0</td>\n",
       "    </tr>\n",
       "    <tr>\n",
       "      <th>2</th>\n",
       "      <td>3</td>\n",
       "      <td>moscow, yukon territory, russia</td>\n",
       "      <td>NaN</td>\n",
       "    </tr>\n",
       "    <tr>\n",
       "      <th>3</th>\n",
       "      <td>4</td>\n",
       "      <td>porto, v.n.gaia, portugal</td>\n",
       "      <td>17.0</td>\n",
       "    </tr>\n",
       "    <tr>\n",
       "      <th>4</th>\n",
       "      <td>5</td>\n",
       "      <td>farnborough, hants, united kingdom</td>\n",
       "      <td>NaN</td>\n",
       "    </tr>\n",
       "  </tbody>\n",
       "</table>\n",
       "</div>"
      ],
      "text/plain": [
       "   User-ID                            Location   Age\n",
       "0        1                  nyc, new york, usa   NaN\n",
       "1        2           stockton, california, usa  18.0\n",
       "2        3     moscow, yukon territory, russia   NaN\n",
       "3        4           porto, v.n.gaia, portugal  17.0\n",
       "4        5  farnborough, hants, united kingdom   NaN"
      ]
     },
     "execution_count": 160,
     "metadata": {},
     "output_type": "execute_result"
    }
   ],
   "source": [
    "users = pd.read_csv('books_data/BX-Users.csv', sep = ';', \n",
    "encoding= 'unicode_escape')\n",
    "users.head()"
   ]
  },
  {
   "cell_type": "markdown",
   "metadata": {},
   "source": [
    "## Process and clean data\n",
    "- Check if data needs to be processed and cleaned.\n",
    "- Process and clean data if necessary."
   ]
  },
  {
   "cell_type": "code",
   "execution_count": 161,
   "metadata": {},
   "outputs": [
    {
     "data": {
      "text/html": [
       "<div>\n",
       "<style scoped>\n",
       "    .dataframe tbody tr th:only-of-type {\n",
       "        vertical-align: middle;\n",
       "    }\n",
       "\n",
       "    .dataframe tbody tr th {\n",
       "        vertical-align: top;\n",
       "    }\n",
       "\n",
       "    .dataframe thead th {\n",
       "        text-align: right;\n",
       "    }\n",
       "</style>\n",
       "<table border=\"1\" class=\"dataframe\">\n",
       "  <thead>\n",
       "    <tr style=\"text-align: right;\">\n",
       "      <th></th>\n",
       "      <th>ISBN</th>\n",
       "      <th>Book-Title</th>\n",
       "      <th>Book-Author</th>\n",
       "      <th>Year-Of-Publication</th>\n",
       "      <th>Publisher</th>\n",
       "    </tr>\n",
       "  </thead>\n",
       "  <tbody>\n",
       "    <tr>\n",
       "      <th>0</th>\n",
       "      <td>0195153448</td>\n",
       "      <td>Classical Mythology</td>\n",
       "      <td>Mark P. O. Morford</td>\n",
       "      <td>2002</td>\n",
       "      <td>Oxford University Press</td>\n",
       "    </tr>\n",
       "    <tr>\n",
       "      <th>1</th>\n",
       "      <td>0002005018</td>\n",
       "      <td>Clara Callan</td>\n",
       "      <td>Richard Bruce Wright</td>\n",
       "      <td>2001</td>\n",
       "      <td>HarperFlamingo Canada</td>\n",
       "    </tr>\n",
       "    <tr>\n",
       "      <th>2</th>\n",
       "      <td>0060973129</td>\n",
       "      <td>Decision in Normandy</td>\n",
       "      <td>Carlo D'Este</td>\n",
       "      <td>1991</td>\n",
       "      <td>HarperPerennial</td>\n",
       "    </tr>\n",
       "    <tr>\n",
       "      <th>3</th>\n",
       "      <td>0374157065</td>\n",
       "      <td>Flu: The Story of the Great Influenza Pandemic...</td>\n",
       "      <td>Gina Bari Kolata</td>\n",
       "      <td>1999</td>\n",
       "      <td>Farrar Straus Giroux</td>\n",
       "    </tr>\n",
       "    <tr>\n",
       "      <th>4</th>\n",
       "      <td>0393045218</td>\n",
       "      <td>The Mummies of Urumchi</td>\n",
       "      <td>E. J. W. Barber</td>\n",
       "      <td>1999</td>\n",
       "      <td>W. W. Norton &amp;amp; Company</td>\n",
       "    </tr>\n",
       "  </tbody>\n",
       "</table>\n",
       "</div>"
      ],
      "text/plain": [
       "         ISBN                                         Book-Title  \\\n",
       "0  0195153448                                Classical Mythology   \n",
       "1  0002005018                                       Clara Callan   \n",
       "2  0060973129                               Decision in Normandy   \n",
       "3  0374157065  Flu: The Story of the Great Influenza Pandemic...   \n",
       "4  0393045218                             The Mummies of Urumchi   \n",
       "\n",
       "            Book-Author Year-Of-Publication                   Publisher  \n",
       "0    Mark P. O. Morford                2002     Oxford University Press  \n",
       "1  Richard Bruce Wright                2001       HarperFlamingo Canada  \n",
       "2          Carlo D'Este                1991             HarperPerennial  \n",
       "3      Gina Bari Kolata                1999        Farrar Straus Giroux  \n",
       "4       E. J. W. Barber                1999  W. W. Norton &amp; Company  "
      ]
     },
     "execution_count": 161,
     "metadata": {},
     "output_type": "execute_result"
    }
   ],
   "source": [
    "books = books[['ISBN', 'Book-Title', 'Book-Author', 'Year-Of-Publication', 'Publisher']]\n",
    "books.head()"
   ]
  },
  {
   "cell_type": "code",
   "execution_count": 162,
   "metadata": {},
   "outputs": [
    {
     "data": {
      "image/png": "[encoded data removed]",
      "text/plain": [
       "<Figure size 640x480 with 1 Axes>"
      ]
     },
     "metadata": {},
     "output_type": "display_data"
    }
   ],
   "source": [
    "# Plotting the rating distribution.\n",
    "books_ratings[\"Book-Rating\"].hist();"
   ]
  },
  {
   "cell_type": "markdown",
   "metadata": {},
   "source": [
    "## Identify and separate the Users\n",
    "- Which users are present in the training data?\n",
    "- Make sure that you identify which test users are present in the training data and which are not.\n",
    "- Can you use personalized methologies for all users?"
   ]
  },
  {
   "cell_type": "code",
   "execution_count": 163,
   "metadata": {},
   "outputs": [],
   "source": [
    "books_ratings_train, books_ratings_val = train_test_split(books_ratings, test_size=0.4, random_state=123)"
   ]
  },
  {
   "attachments": {},
   "cell_type": "markdown",
   "metadata": {},
   "source": [
    "**For this exercise I will create a list of test users, 80% of those user will be already present in the training set, the remaining users will be new users!\n",
    "The total number of user in test set will be 100**"
   ]
  },
  {
   "cell_type": "code",
   "execution_count": 164,
   "metadata": {},
   "outputs": [],
   "source": [
    "users_from_data = random.choices(books_ratings_train['User-ID'].tolist(), k=80)"
   ]
  },
  {
   "cell_type": "code",
   "execution_count": 165,
   "metadata": {},
   "outputs": [],
   "source": [
    "new_users = []\n",
    "\n",
    "while len(new_users) <20:\n",
    "    number = random.randint(47672900,276729000)\n",
    "    new_users.append(str(number))"
   ]
  },
  {
   "cell_type": "code",
   "execution_count": 166,
   "metadata": {},
   "outputs": [],
   "source": [
    "test_users = users_from_data + new_users"
   ]
  },
  {
   "cell_type": "code",
   "execution_count": 167,
   "metadata": {},
   "outputs": [
    {
     "data": {
      "text/plain": [
       "100"
      ]
     },
     "execution_count": 167,
     "metadata": {},
     "output_type": "execute_result"
    }
   ],
   "source": [
    "len(test_users)"
   ]
  },
  {
   "attachments": {},
   "cell_type": "markdown",
   "metadata": {},
   "source": [
    "First we need to split the data into test and validation, later on the vaidation set can be user to see how out model is preforming"
   ]
  },
  {
   "cell_type": "code",
   "execution_count": 168,
   "metadata": {},
   "outputs": [
    {
     "data": {
      "text/html": [
       "<div>\n",
       "<style scoped>\n",
       "    .dataframe tbody tr th:only-of-type {\n",
       "        vertical-align: middle;\n",
       "    }\n",
       "\n",
       "    .dataframe tbody tr th {\n",
       "        vertical-align: top;\n",
       "    }\n",
       "\n",
       "    .dataframe thead th {\n",
       "        text-align: right;\n",
       "    }\n",
       "</style>\n",
       "<table border=\"1\" class=\"dataframe\">\n",
       "  <thead>\n",
       "    <tr style=\"text-align: right;\">\n",
       "      <th></th>\n",
       "      <th>User-ID</th>\n",
       "      <th>ISBN</th>\n",
       "      <th>Book-Rating</th>\n",
       "    </tr>\n",
       "  </thead>\n",
       "  <tbody>\n",
       "    <tr>\n",
       "      <th>0</th>\n",
       "      <td>276725</td>\n",
       "      <td>034545104X</td>\n",
       "      <td>0</td>\n",
       "    </tr>\n",
       "    <tr>\n",
       "      <th>1</th>\n",
       "      <td>276726</td>\n",
       "      <td>0155061224</td>\n",
       "      <td>5</td>\n",
       "    </tr>\n",
       "    <tr>\n",
       "      <th>2</th>\n",
       "      <td>276727</td>\n",
       "      <td>0446520802</td>\n",
       "      <td>0</td>\n",
       "    </tr>\n",
       "    <tr>\n",
       "      <th>3</th>\n",
       "      <td>276729</td>\n",
       "      <td>052165615X</td>\n",
       "      <td>3</td>\n",
       "    </tr>\n",
       "    <tr>\n",
       "      <th>4</th>\n",
       "      <td>276729</td>\n",
       "      <td>0521795028</td>\n",
       "      <td>6</td>\n",
       "    </tr>\n",
       "  </tbody>\n",
       "</table>\n",
       "</div>"
      ],
      "text/plain": [
       "   User-ID        ISBN  Book-Rating\n",
       "0   276725  034545104X            0\n",
       "1   276726  0155061224            5\n",
       "2   276727  0446520802            0\n",
       "3   276729  052165615X            3\n",
       "4   276729  0521795028            6"
      ]
     },
     "execution_count": 168,
     "metadata": {},
     "output_type": "execute_result"
    }
   ],
   "source": [
    "books_ratings.head()"
   ]
  },
  {
   "attachments": {},
   "cell_type": "markdown",
   "metadata": {},
   "source": [
    "### Training Set"
   ]
  },
  {
   "cell_type": "code",
   "execution_count": 169,
   "metadata": {},
   "outputs": [
    {
     "name": "stdout",
     "output_type": "stream",
     "text": [
      "We have 689,868 ratings in total.\n"
     ]
    }
   ],
   "source": [
    "# How many ratings do we have in total?\n",
    "# Tip: The \":,\" at the end of the f-string adds the thousand separator.\n",
    "print(f\"We have {len(books_ratings_train):,} ratings in total.\")"
   ]
  },
  {
   "cell_type": "code",
   "execution_count": 170,
   "metadata": {},
   "outputs": [
    {
     "name": "stdout",
     "output_type": "stream",
     "text": [
      " We have 250,124 books rated.\n"
     ]
    }
   ],
   "source": [
    "#How many books where rated\n",
    "print(f\" We have {books_ratings_train['ISBN'].unique().size:,} books rated.\")"
   ]
  },
  {
   "cell_type": "code",
   "execution_count": 171,
   "metadata": {},
   "outputs": [
    {
     "name": "stdout",
     "output_type": "stream",
     "text": [
      " We have 78,837 users that rated at least one book.\n"
     ]
    }
   ],
   "source": [
    "# How many users rated at least one book?\n",
    "print(f\" We have {books_ratings_train['User-ID'].unique().size:,} users that rated at least one book.\")"
   ]
  },
  {
   "attachments": {},
   "cell_type": "markdown",
   "metadata": {},
   "source": [
    "### Validation Set"
   ]
  },
  {
   "cell_type": "code",
   "execution_count": 172,
   "metadata": {},
   "outputs": [
    {
     "name": "stdout",
     "output_type": "stream",
     "text": [
      "We have 459,912 ratings in total (validation set).\n"
     ]
    }
   ],
   "source": [
    "# How many ratings do we have in total?\n",
    "# Tip: The \":,\" at the end of the f-string adds the thousand separator.\n",
    "print(f\"We have {len(books_ratings_val):,} ratings in total (validation set).\")"
   ]
  },
  {
   "cell_type": "code",
   "execution_count": 173,
   "metadata": {},
   "outputs": [
    {
     "name": "stdout",
     "output_type": "stream",
     "text": [
      " We have 192,164 books rated.\n"
     ]
    }
   ],
   "source": [
    "#How many books where rated\n",
    "print(f\" We have {books_ratings_val['ISBN'].unique().size:,} books rated.\")"
   ]
  },
  {
   "cell_type": "code",
   "execution_count": 174,
   "metadata": {},
   "outputs": [
    {
     "name": "stdout",
     "output_type": "stream",
     "text": [
      " We have 63,027 users that rated at least one book.\n"
     ]
    }
   ],
   "source": [
    "# How many users rated at least one book?\n",
    "print(f\" We have {books_ratings_val['User-ID'].unique().size:,} users that rated at least one book.\")"
   ]
  },
  {
   "attachments": {},
   "cell_type": "markdown",
   "metadata": {},
   "source": [
    "To be able to compare our recommendations with actual most liked items we need to find users that have enough actual ratings to compare with. If we are measuring `map@k` with `k=20`, users must have at least 20 actual prefered items and we have to provide at least 20 recommendations. One might argue that we now have selection bias because we are specifically selecting users that have more ratings and ignoring users with fewer ratings. This is a consideration that you should take into account specially if you want to evaluate the performance of recommendations to new users. \n",
    "\n",
    "Here we are selecting all ratings from users with at least 20 positive reviews as our validation data."
   ]
  },
  {
   "cell_type": "code",
   "execution_count": 175,
   "metadata": {},
   "outputs": [
    {
     "data": {
      "text/html": [
       "<div>\n",
       "<style scoped>\n",
       "    .dataframe tbody tr th:only-of-type {\n",
       "        vertical-align: middle;\n",
       "    }\n",
       "\n",
       "    .dataframe tbody tr th {\n",
       "        vertical-align: top;\n",
       "    }\n",
       "\n",
       "    .dataframe thead th {\n",
       "        text-align: right;\n",
       "    }\n",
       "</style>\n",
       "<table border=\"1\" class=\"dataframe\">\n",
       "  <thead>\n",
       "    <tr style=\"text-align: right;\">\n",
       "      <th></th>\n",
       "      <th>User-ID</th>\n",
       "      <th>ISBN</th>\n",
       "      <th>Book-Rating</th>\n",
       "    </tr>\n",
       "  </thead>\n",
       "  <tbody>\n",
       "    <tr>\n",
       "      <th>229535</th>\n",
       "      <td>52917</td>\n",
       "      <td>1558534202</td>\n",
       "      <td>6</td>\n",
       "    </tr>\n",
       "    <tr>\n",
       "      <th>817972</th>\n",
       "      <td>198711</td>\n",
       "      <td>0394426290</td>\n",
       "      <td>0</td>\n",
       "    </tr>\n",
       "  </tbody>\n",
       "</table>\n",
       "</div>"
      ],
      "text/plain": [
       "        User-ID        ISBN  Book-Rating\n",
       "229535    52917  1558534202            6\n",
       "817972   198711  0394426290            0"
      ]
     },
     "execution_count": 175,
     "metadata": {},
     "output_type": "execute_result"
    }
   ],
   "source": [
    "books_ratings_val.head(2)"
   ]
  },
  {
   "cell_type": "code",
   "execution_count": 176,
   "metadata": {},
   "outputs": [
    {
     "data": {
      "text/html": [
       "<div>\n",
       "<style scoped>\n",
       "    .dataframe tbody tr th:only-of-type {\n",
       "        vertical-align: middle;\n",
       "    }\n",
       "\n",
       "    .dataframe tbody tr th {\n",
       "        vertical-align: top;\n",
       "    }\n",
       "\n",
       "    .dataframe thead th {\n",
       "        text-align: right;\n",
       "    }\n",
       "</style>\n",
       "<table border=\"1\" class=\"dataframe\">\n",
       "  <thead>\n",
       "    <tr style=\"text-align: right;\">\n",
       "      <th></th>\n",
       "      <th>User-ID</th>\n",
       "      <th>ISBN</th>\n",
       "      <th>Book-Rating</th>\n",
       "    </tr>\n",
       "  </thead>\n",
       "  <tbody>\n",
       "    <tr>\n",
       "      <th>46967</th>\n",
       "      <td>11676</td>\n",
       "      <td>0312313195</td>\n",
       "      <td>8</td>\n",
       "    </tr>\n",
       "    <tr>\n",
       "      <th>403255</th>\n",
       "      <td>97324</td>\n",
       "      <td>0691017778</td>\n",
       "      <td>9</td>\n",
       "    </tr>\n",
       "    <tr>\n",
       "      <th>739047</th>\n",
       "      <td>178522</td>\n",
       "      <td>0684835959</td>\n",
       "      <td>8</td>\n",
       "    </tr>\n",
       "    <tr>\n",
       "      <th>435984</th>\n",
       "      <td>104399</td>\n",
       "      <td>0671729411</td>\n",
       "      <td>10</td>\n",
       "    </tr>\n",
       "    <tr>\n",
       "      <th>164786</th>\n",
       "      <td>36554</td>\n",
       "      <td>0060168013</td>\n",
       "      <td>10</td>\n",
       "    </tr>\n",
       "  </tbody>\n",
       "</table>\n",
       "</div>"
      ],
      "text/plain": [
       "        User-ID        ISBN  Book-Rating\n",
       "46967     11676  0312313195            8\n",
       "403255    97324  0691017778            9\n",
       "739047   178522  0684835959            8\n",
       "435984   104399  0671729411           10\n",
       "164786    36554  0060168013           10"
      ]
     },
     "execution_count": 176,
     "metadata": {},
     "output_type": "execute_result"
    }
   ],
   "source": [
    "def select_frequent_reviewers(df: pd.DataFrame, min_nr_reviews: int = 20, min_rating: int = 8):\n",
    "    \"\"\"\n",
    "    Select reviews from users with at least min_nr_reviews reviews with rating larger than min_rating.\n",
    "    \"\"\"\n",
    "    \n",
    "    # Select only positive reviews\n",
    "    df_positive = df.copy().loc[df[\"Book-Rating\"] >= min_rating]\n",
    "\n",
    "    # Select users with more than min_nr_reviews positive reviews\n",
    "    user_review_count = df_positive.groupby(by=[\"User-ID\"])[\"ISBN\"].count()\n",
    "    test_users_list = list(user_review_count[user_review_count > min_nr_reviews].index)\n",
    "\n",
    "    # Select ratings from users specified above\n",
    "    df_restrict = df_positive.copy().loc[df_positive[\"User-ID\"].isin(test_users_list)]\n",
    "    \n",
    "    return df_restrict\n",
    "\n",
    "book_ratings_val_final = select_frequent_reviewers(books_ratings_val)\n",
    "book_ratings_val_final.head()"
   ]
  },
  {
   "attachments": {},
   "cell_type": "markdown",
   "metadata": {},
   "source": [
    "This data will be user later as validation set"
   ]
  },
  {
   "cell_type": "code",
   "execution_count": 177,
   "metadata": {},
   "outputs": [
    {
     "name": "stdout",
     "output_type": "stream",
     "text": [
      "We are validating recommendations with 684 users.\n"
     ]
    }
   ],
   "source": [
    "users_val = book_ratings_val_final[\"User-ID\"].unique().tolist()\n",
    "print(f\"We are validating recommendations with {len(users_val)} users.\")"
   ]
  },
  {
   "cell_type": "code",
   "execution_count": 178,
   "metadata": {},
   "outputs": [
    {
     "data": {
      "text/html": [
       "<div>\n",
       "<style scoped>\n",
       "    .dataframe tbody tr th:only-of-type {\n",
       "        vertical-align: middle;\n",
       "    }\n",
       "\n",
       "    .dataframe tbody tr th {\n",
       "        vertical-align: top;\n",
       "    }\n",
       "\n",
       "    .dataframe thead th {\n",
       "        text-align: right;\n",
       "    }\n",
       "</style>\n",
       "<table border=\"1\" class=\"dataframe\">\n",
       "  <thead>\n",
       "    <tr style=\"text-align: right;\">\n",
       "      <th></th>\n",
       "      <th>0</th>\n",
       "      <th>1</th>\n",
       "      <th>2</th>\n",
       "      <th>3</th>\n",
       "      <th>4</th>\n",
       "      <th>5</th>\n",
       "      <th>6</th>\n",
       "      <th>7</th>\n",
       "      <th>8</th>\n",
       "      <th>9</th>\n",
       "      <th>...</th>\n",
       "      <th>11</th>\n",
       "      <th>12</th>\n",
       "      <th>13</th>\n",
       "      <th>14</th>\n",
       "      <th>15</th>\n",
       "      <th>16</th>\n",
       "      <th>17</th>\n",
       "      <th>18</th>\n",
       "      <th>19</th>\n",
       "      <th>20</th>\n",
       "    </tr>\n",
       "  </thead>\n",
       "  <tbody>\n",
       "    <tr>\n",
       "      <th>0</th>\n",
       "      <td>183</td>\n",
       "      <td>9801</td>\n",
       "      <td>9819</td>\n",
       "      <td>9867</td>\n",
       "      <td>9762</td>\n",
       "      <td>9838</td>\n",
       "      <td>9753</td>\n",
       "      <td>9839</td>\n",
       "      <td>9752</td>\n",
       "      <td>9873</td>\n",
       "      <td>...</td>\n",
       "      <td>9853</td>\n",
       "      <td>9789</td>\n",
       "      <td>9803</td>\n",
       "      <td>9784</td>\n",
       "      <td>9855</td>\n",
       "      <td>9856</td>\n",
       "      <td>9830</td>\n",
       "      <td>9786</td>\n",
       "      <td>9823</td>\n",
       "      <td>9866</td>\n",
       "    </tr>\n",
       "    <tr>\n",
       "      <th>1</th>\n",
       "      <td>638</td>\n",
       "      <td>11108</td>\n",
       "      <td>11113</td>\n",
       "      <td>11093</td>\n",
       "      <td>11142</td>\n",
       "      <td>11107</td>\n",
       "      <td>11106</td>\n",
       "      <td>11096</td>\n",
       "      <td>11095</td>\n",
       "      <td>11126</td>\n",
       "      <td>...</td>\n",
       "      <td>11076</td>\n",
       "      <td>11082</td>\n",
       "      <td>11137</td>\n",
       "      <td>11078</td>\n",
       "      <td>11121</td>\n",
       "      <td>11075</td>\n",
       "      <td>11091</td>\n",
       "      <td>11074</td>\n",
       "      <td>11081</td>\n",
       "      <td>11110</td>\n",
       "    </tr>\n",
       "    <tr>\n",
       "      <th>2</th>\n",
       "      <td>643</td>\n",
       "      <td>11176</td>\n",
       "      <td>11209</td>\n",
       "      <td>11211</td>\n",
       "      <td>11204</td>\n",
       "      <td>11225</td>\n",
       "      <td>11171</td>\n",
       "      <td>11185</td>\n",
       "      <td>11203</td>\n",
       "      <td>11214</td>\n",
       "      <td>...</td>\n",
       "      <td>11180</td>\n",
       "      <td>11159</td>\n",
       "      <td>11188</td>\n",
       "      <td>11190</td>\n",
       "      <td>11198</td>\n",
       "      <td>11162</td>\n",
       "      <td>11235</td>\n",
       "      <td>11183</td>\n",
       "      <td>11210</td>\n",
       "      <td>11220</td>\n",
       "    </tr>\n",
       "    <tr>\n",
       "      <th>3</th>\n",
       "      <td>2030</td>\n",
       "      <td>14114</td>\n",
       "      <td>14098</td>\n",
       "      <td>14070</td>\n",
       "      <td>14068</td>\n",
       "      <td>14112</td>\n",
       "      <td>14083</td>\n",
       "      <td>14115</td>\n",
       "      <td>14081</td>\n",
       "      <td>14100</td>\n",
       "      <td>...</td>\n",
       "      <td>14091</td>\n",
       "      <td>14111</td>\n",
       "      <td>14097</td>\n",
       "      <td>14078</td>\n",
       "      <td>14090</td>\n",
       "      <td>14103</td>\n",
       "      <td>14113</td>\n",
       "      <td>14082</td>\n",
       "      <td>14110</td>\n",
       "      <td>14101</td>\n",
       "    </tr>\n",
       "    <tr>\n",
       "      <th>4</th>\n",
       "      <td>2033</td>\n",
       "      <td>14171</td>\n",
       "      <td>14237</td>\n",
       "      <td>14144</td>\n",
       "      <td>14122</td>\n",
       "      <td>14199</td>\n",
       "      <td>14224</td>\n",
       "      <td>14257</td>\n",
       "      <td>14248</td>\n",
       "      <td>14168</td>\n",
       "      <td>...</td>\n",
       "      <td>14255</td>\n",
       "      <td>14172</td>\n",
       "      <td>14225</td>\n",
       "      <td>14236</td>\n",
       "      <td>14270</td>\n",
       "      <td>14200</td>\n",
       "      <td>14149</td>\n",
       "      <td>14239</td>\n",
       "      <td>14258</td>\n",
       "      <td>14306</td>\n",
       "    </tr>\n",
       "  </tbody>\n",
       "</table>\n",
       "<p>5 rows × 21 columns</p>\n",
       "</div>"
      ],
      "text/plain": [
       "     0      1      2      3      4      5      6      7      8      9   ...  \\\n",
       "0   183   9801   9819   9867   9762   9838   9753   9839   9752   9873  ...   \n",
       "1   638  11108  11113  11093  11142  11107  11106  11096  11095  11126  ...   \n",
       "2   643  11176  11209  11211  11204  11225  11171  11185  11203  11214  ...   \n",
       "3  2030  14114  14098  14070  14068  14112  14083  14115  14081  14100  ...   \n",
       "4  2033  14171  14237  14144  14122  14199  14224  14257  14248  14168  ...   \n",
       "\n",
       "      11     12     13     14     15     16     17     18     19     20  \n",
       "0   9853   9789   9803   9784   9855   9856   9830   9786   9823   9866  \n",
       "1  11076  11082  11137  11078  11121  11075  11091  11074  11081  11110  \n",
       "2  11180  11159  11188  11190  11198  11162  11235  11183  11210  11220  \n",
       "3  14091  14111  14097  14078  14090  14103  14113  14082  14110  14101  \n",
       "4  14255  14172  14225  14236  14270  14200  14149  14239  14258  14306  \n",
       "\n",
       "[5 rows x 21 columns]"
      ]
     },
     "execution_count": 178,
     "metadata": {},
     "output_type": "execute_result"
    }
   ],
   "source": [
    "# nr of recommendations per user\n",
    "k_top = 20\n",
    "\n",
    "def top_items_per_user(df: pd.DataFrame, user_col: str, rating_col:str, k_top: int):\n",
    "\n",
    "    df_users_kbest = df.copy().groupby(by=[user_col])[rating_col].nlargest(k_top).reset_index()\n",
    "    df_users_kbest['rank'] = df_users_kbest.groupby(by=[user_col])[rating_col].rank(method=\"first\")\n",
    "    #df_users_kbest['rank'] = df_users_kbest['rank'].astype(int) - 1\n",
    "    df_recommendations = df_users_kbest.pivot(index=user_col, columns=\"rank\", values=\"level_1\")\n",
    "    df_recommendations = df_recommendations.reset_index(drop=False)\n",
    "    df_recommendations.columns = np.arange(len(df_recommendations.columns))\n",
    "    return df_recommendations\n",
    "\n",
    "val_recommendations = top_items_per_user(book_ratings_val_final, \"User-ID\", \"Book-Rating\", k_top=k_top)\n",
    "val_recommendations.head()"
   ]
  },
  {
   "cell_type": "code",
   "execution_count": 179,
   "metadata": {},
   "outputs": [
    {
     "name": "stdout",
     "output_type": "stream",
     "text": [
      "Recommendations were saved on file validation_recommendations.csv.\n"
     ]
    }
   ],
   "source": [
    "save_recommendations(val_recommendations, \"validation_recommendations\")"
   ]
  },
  {
   "cell_type": "markdown",
   "metadata": {},
   "source": [
    "## Create the Ratings Matrix"
   ]
  },
  {
   "cell_type": "code",
   "execution_count": 180,
   "metadata": {},
   "outputs": [],
   "source": [
    "# YOUR CODE HERE"
   ]
  },
  {
   "cell_type": "markdown",
   "metadata": {},
   "source": [
    "## Non-Personalized Recommendations\n",
    "- Create non-personalized recommendations as a baseline.\n",
    "- Apply the recommendations to the test users.\n",
    "- Store results in the required format for submission.\n",
    "- Submit baseline recommendations."
   ]
  },
  {
   "attachments": {},
   "cell_type": "markdown",
   "metadata": {},
   "source": [
    "We can directly find the most popular recipes without creating a rating matrix. We'll consider that the most popular recipes are the ones that have the best score but are also rated more. By calculating the average score and the number of times a recipe was rated, we can sort the recipes and select the best 20."
   ]
  },
  {
   "cell_type": "code",
   "execution_count": 181,
   "metadata": {},
   "outputs": [
    {
     "name": "stdout",
     "output_type": "stream",
     "text": [
      "['0395193958', '0395282659', '0684842319', '006440546X', '0439042445', '1561840564', '1563893339', '006050675X', '0140238026', '0316150363', '0395082560', '0441005055', '0446513857', '067978179X', '0681403225', '0689300727', '0689801505', '073291180X', '0760707251', '0786831901']\n"
     ]
    }
   ],
   "source": [
    "def non_pers_reco_order(data: pd.DataFrame,\n",
    "                        item_col: str,\n",
    "                        rating_col:str,\n",
    "                        k_top: int,\n",
    "                        aggregation: list() = [\"mean\", \"count\"]):\n",
    "    \"\"\"\n",
    "    Create an ordered list of non-personalized recommendations, from best rated to worst rated.\n",
    "    \"\"\"\n",
    "    non_pers_ratings = data.groupby(by=[item_col])[[rating_col]].agg(aggregation)\n",
    "    non_pers_ratings.columns = non_pers_ratings.columns.get_level_values(1)\n",
    "    \n",
    "    #The resulting column names might be different than the specified with the aggregation parameter.\n",
    "    try:\n",
    "        non_pers_ratings = non_pers_ratings.sort_values(by=aggregation, ascending=False).head(k_top)\n",
    "    except KeyError as e:\n",
    "        print(e)\n",
    "        print(\"Check if aggregation argument results in valid column names.\")\n",
    "        print(f\"aggregation = {aggregation}\\nrating columns = {non_pers_ratings.columns}\")\n",
    "        raise e\n",
    "        \n",
    "    non_pers_reco_list = non_pers_ratings.index.to_list()\n",
    "    return non_pers_reco_list\n",
    "\n",
    "\n",
    "non_pers_recommendations = non_pers_reco_order(books_ratings_train, \"ISBN\", \"Book-Rating\", k_top= 20)\n",
    "print(non_pers_recommendations)"
   ]
  },
  {
   "cell_type": "markdown",
   "metadata": {},
   "source": [
    "## Evaluate results\n",
    "- Calculate the evaluation metric on the validation users.\n",
    "- Compare it later with the personalized recommendations"
   ]
  },
  {
   "attachments": {},
   "cell_type": "markdown",
   "metadata": {},
   "source": [
    "Here we create recommendations for the specified users based on the non-personalized recommendations obtained above."
   ]
  },
  {
   "cell_type": "code",
   "execution_count": 182,
   "metadata": {},
   "outputs": [],
   "source": [
    "def non_pers_reco_output(user_id_list:list, non_pers_reco_list:list):\n",
    "    \"\"\"\n",
    "    Creates a non-personalized recommendation dataframe for specified users.\n",
    "    \"\"\"\n",
    "    nr_test_users = len(user_id_list)\n",
    "    user_id_df = pd.DataFrame(user_id_list, columns = [\"user_id\"])\n",
    "    non_pers_reco_repeated =  pd.DataFrame(pd.DataFrame(non_pers_reco_list).T.values.repeat(nr_test_users, axis=0))\n",
    "    non_pers_reco_output = pd.concat([user_id_df, non_pers_reco_repeated], axis=1)\n",
    "    \n",
    "    # Reset columns numbering. Useful later.\n",
    "    #non_pers_reco_output.columns = np.arange(len(non_pers_reco_output.columns))\n",
    "    \n",
    "    return non_pers_reco_output"
   ]
  },
  {
   "cell_type": "code",
   "execution_count": 183,
   "metadata": {},
   "outputs": [
    {
     "data": {
      "text/html": [
       "<div>\n",
       "<style scoped>\n",
       "    .dataframe tbody tr th:only-of-type {\n",
       "        vertical-align: middle;\n",
       "    }\n",
       "\n",
       "    .dataframe tbody tr th {\n",
       "        vertical-align: top;\n",
       "    }\n",
       "\n",
       "    .dataframe thead th {\n",
       "        text-align: right;\n",
       "    }\n",
       "</style>\n",
       "<table border=\"1\" class=\"dataframe\">\n",
       "  <thead>\n",
       "    <tr style=\"text-align: right;\">\n",
       "      <th></th>\n",
       "      <th>user_id</th>\n",
       "      <th>0</th>\n",
       "      <th>1</th>\n",
       "      <th>2</th>\n",
       "      <th>3</th>\n",
       "      <th>4</th>\n",
       "      <th>5</th>\n",
       "      <th>6</th>\n",
       "      <th>7</th>\n",
       "      <th>8</th>\n",
       "      <th>...</th>\n",
       "      <th>10</th>\n",
       "      <th>11</th>\n",
       "      <th>12</th>\n",
       "      <th>13</th>\n",
       "      <th>14</th>\n",
       "      <th>15</th>\n",
       "      <th>16</th>\n",
       "      <th>17</th>\n",
       "      <th>18</th>\n",
       "      <th>19</th>\n",
       "    </tr>\n",
       "  </thead>\n",
       "  <tbody>\n",
       "    <tr>\n",
       "      <th>0</th>\n",
       "      <td>11676</td>\n",
       "      <td>0395193958</td>\n",
       "      <td>0395282659</td>\n",
       "      <td>0684842319</td>\n",
       "      <td>006440546X</td>\n",
       "      <td>0439042445</td>\n",
       "      <td>1561840564</td>\n",
       "      <td>1563893339</td>\n",
       "      <td>006050675X</td>\n",
       "      <td>0140238026</td>\n",
       "      <td>...</td>\n",
       "      <td>0395082560</td>\n",
       "      <td>0441005055</td>\n",
       "      <td>0446513857</td>\n",
       "      <td>067978179X</td>\n",
       "      <td>0681403225</td>\n",
       "      <td>0689300727</td>\n",
       "      <td>0689801505</td>\n",
       "      <td>073291180X</td>\n",
       "      <td>0760707251</td>\n",
       "      <td>0786831901</td>\n",
       "    </tr>\n",
       "    <tr>\n",
       "      <th>1</th>\n",
       "      <td>97324</td>\n",
       "      <td>0395193958</td>\n",
       "      <td>0395282659</td>\n",
       "      <td>0684842319</td>\n",
       "      <td>006440546X</td>\n",
       "      <td>0439042445</td>\n",
       "      <td>1561840564</td>\n",
       "      <td>1563893339</td>\n",
       "      <td>006050675X</td>\n",
       "      <td>0140238026</td>\n",
       "      <td>...</td>\n",
       "      <td>0395082560</td>\n",
       "      <td>0441005055</td>\n",
       "      <td>0446513857</td>\n",
       "      <td>067978179X</td>\n",
       "      <td>0681403225</td>\n",
       "      <td>0689300727</td>\n",
       "      <td>0689801505</td>\n",
       "      <td>073291180X</td>\n",
       "      <td>0760707251</td>\n",
       "      <td>0786831901</td>\n",
       "    </tr>\n",
       "    <tr>\n",
       "      <th>2</th>\n",
       "      <td>178522</td>\n",
       "      <td>0395193958</td>\n",
       "      <td>0395282659</td>\n",
       "      <td>0684842319</td>\n",
       "      <td>006440546X</td>\n",
       "      <td>0439042445</td>\n",
       "      <td>1561840564</td>\n",
       "      <td>1563893339</td>\n",
       "      <td>006050675X</td>\n",
       "      <td>0140238026</td>\n",
       "      <td>...</td>\n",
       "      <td>0395082560</td>\n",
       "      <td>0441005055</td>\n",
       "      <td>0446513857</td>\n",
       "      <td>067978179X</td>\n",
       "      <td>0681403225</td>\n",
       "      <td>0689300727</td>\n",
       "      <td>0689801505</td>\n",
       "      <td>073291180X</td>\n",
       "      <td>0760707251</td>\n",
       "      <td>0786831901</td>\n",
       "    </tr>\n",
       "    <tr>\n",
       "      <th>3</th>\n",
       "      <td>104399</td>\n",
       "      <td>0395193958</td>\n",
       "      <td>0395282659</td>\n",
       "      <td>0684842319</td>\n",
       "      <td>006440546X</td>\n",
       "      <td>0439042445</td>\n",
       "      <td>1561840564</td>\n",
       "      <td>1563893339</td>\n",
       "      <td>006050675X</td>\n",
       "      <td>0140238026</td>\n",
       "      <td>...</td>\n",
       "      <td>0395082560</td>\n",
       "      <td>0441005055</td>\n",
       "      <td>0446513857</td>\n",
       "      <td>067978179X</td>\n",
       "      <td>0681403225</td>\n",
       "      <td>0689300727</td>\n",
       "      <td>0689801505</td>\n",
       "      <td>073291180X</td>\n",
       "      <td>0760707251</td>\n",
       "      <td>0786831901</td>\n",
       "    </tr>\n",
       "    <tr>\n",
       "      <th>4</th>\n",
       "      <td>36554</td>\n",
       "      <td>0395193958</td>\n",
       "      <td>0395282659</td>\n",
       "      <td>0684842319</td>\n",
       "      <td>006440546X</td>\n",
       "      <td>0439042445</td>\n",
       "      <td>1561840564</td>\n",
       "      <td>1563893339</td>\n",
       "      <td>006050675X</td>\n",
       "      <td>0140238026</td>\n",
       "      <td>...</td>\n",
       "      <td>0395082560</td>\n",
       "      <td>0441005055</td>\n",
       "      <td>0446513857</td>\n",
       "      <td>067978179X</td>\n",
       "      <td>0681403225</td>\n",
       "      <td>0689300727</td>\n",
       "      <td>0689801505</td>\n",
       "      <td>073291180X</td>\n",
       "      <td>0760707251</td>\n",
       "      <td>0786831901</td>\n",
       "    </tr>\n",
       "  </tbody>\n",
       "</table>\n",
       "<p>5 rows × 21 columns</p>\n",
       "</div>"
      ],
      "text/plain": [
       "   user_id           0           1           2           3           4  \\\n",
       "0    11676  0395193958  0395282659  0684842319  006440546X  0439042445   \n",
       "1    97324  0395193958  0395282659  0684842319  006440546X  0439042445   \n",
       "2   178522  0395193958  0395282659  0684842319  006440546X  0439042445   \n",
       "3   104399  0395193958  0395282659  0684842319  006440546X  0439042445   \n",
       "4    36554  0395193958  0395282659  0684842319  006440546X  0439042445   \n",
       "\n",
       "            5           6           7           8  ...          10  \\\n",
       "0  1561840564  1563893339  006050675X  0140238026  ...  0395082560   \n",
       "1  1561840564  1563893339  006050675X  0140238026  ...  0395082560   \n",
       "2  1561840564  1563893339  006050675X  0140238026  ...  0395082560   \n",
       "3  1561840564  1563893339  006050675X  0140238026  ...  0395082560   \n",
       "4  1561840564  1563893339  006050675X  0140238026  ...  0395082560   \n",
       "\n",
       "           11          12          13          14          15          16  \\\n",
       "0  0441005055  0446513857  067978179X  0681403225  0689300727  0689801505   \n",
       "1  0441005055  0446513857  067978179X  0681403225  0689300727  0689801505   \n",
       "2  0441005055  0446513857  067978179X  0681403225  0689300727  0689801505   \n",
       "3  0441005055  0446513857  067978179X  0681403225  0689300727  0689801505   \n",
       "4  0441005055  0446513857  067978179X  0681403225  0689300727  0689801505   \n",
       "\n",
       "           17          18          19  \n",
       "0  073291180X  0760707251  0786831901  \n",
       "1  073291180X  0760707251  0786831901  \n",
       "2  073291180X  0760707251  0786831901  \n",
       "3  073291180X  0760707251  0786831901  \n",
       "4  073291180X  0760707251  0786831901  \n",
       "\n",
       "[5 rows x 21 columns]"
      ]
     },
     "execution_count": 183,
     "metadata": {},
     "output_type": "execute_result"
    }
   ],
   "source": [
    "non_pers_reco_solution_val = non_pers_reco_output(users_val, non_pers_recommendations)\n",
    "non_pers_reco_solution_val.head()"
   ]
  },
  {
   "cell_type": "code",
   "execution_count": 184,
   "metadata": {},
   "outputs": [
    {
     "name": "stdout",
     "output_type": "stream",
     "text": [
      "Recommendations were saved on file non_personalized_recommendations_VAL.csv.\n"
     ]
    }
   ],
   "source": [
    "save_recommendations(non_pers_reco_solution_val, \"non_personalized_recommendations_VAL\")"
   ]
  },
  {
   "cell_type": "code",
   "execution_count": 185,
   "metadata": {},
   "outputs": [
    {
     "data": {
      "text/plain": [
       "0.0"
      ]
     },
     "execution_count": 185,
     "metadata": {},
     "output_type": "execute_result"
    }
   ],
   "source": [
    "## Second argument is the recommendation file to compare\n",
    "evaluate_solution('non_personalized_recommendations_VAL', 'validation_recommendations')"
   ]
  },
  {
   "cell_type": "markdown",
   "metadata": {},
   "source": [
    "## Personalized Recommendations: Collaborative Filtering\n",
    "- Compute the user similarities matrix.\n",
    "- Predict ratings.\n",
    "- Select the best recommendations.\n",
    "- Submit recommendations."
   ]
  },
  {
   "cell_type": "code",
   "execution_count": 186,
   "metadata": {},
   "outputs": [
    {
     "data": {
      "text/html": [
       "<div>\n",
       "<style scoped>\n",
       "    .dataframe tbody tr th:only-of-type {\n",
       "        vertical-align: middle;\n",
       "    }\n",
       "\n",
       "    .dataframe tbody tr th {\n",
       "        vertical-align: top;\n",
       "    }\n",
       "\n",
       "    .dataframe thead th {\n",
       "        text-align: right;\n",
       "    }\n",
       "</style>\n",
       "<table border=\"1\" class=\"dataframe\">\n",
       "  <thead>\n",
       "    <tr style=\"text-align: right;\">\n",
       "      <th></th>\n",
       "      <th>User-ID</th>\n",
       "      <th>ISBN</th>\n",
       "      <th>Book-Rating</th>\n",
       "    </tr>\n",
       "  </thead>\n",
       "  <tbody>\n",
       "    <tr>\n",
       "      <th>80266</th>\n",
       "      <td>16795</td>\n",
       "      <td>0689801645</td>\n",
       "      <td>0</td>\n",
       "    </tr>\n",
       "    <tr>\n",
       "      <th>82516</th>\n",
       "      <td>16982</td>\n",
       "      <td>0436205580</td>\n",
       "      <td>0</td>\n",
       "    </tr>\n",
       "  </tbody>\n",
       "</table>\n",
       "</div>"
      ],
      "text/plain": [
       "       User-ID        ISBN  Book-Rating\n",
       "80266    16795  0689801645            0\n",
       "82516    16982  0436205580            0"
      ]
     },
     "execution_count": 186,
     "metadata": {},
     "output_type": "execute_result"
    }
   ],
   "source": [
    "books_ratings_train.head(2)"
   ]
  },
  {
   "cell_type": "code",
   "execution_count": 187,
   "metadata": {},
   "outputs": [],
   "source": [
    "lfmdataset = lfmDataset()\n",
    "lfmdataset.fit(books_ratings_train['User-ID'], books_ratings_train['ISBN'])"
   ]
  },
  {
   "cell_type": "code",
   "execution_count": 188,
   "metadata": {},
   "outputs": [],
   "source": [
    "user_id_map, user_feature_map, item_id_map, item_feature_map = lfmdataset.mapping()"
   ]
  },
  {
   "cell_type": "code",
   "execution_count": 189,
   "metadata": {},
   "outputs": [],
   "source": [
    "item_id_map_reverse = {v: k for k, v in item_id_map.items()}"
   ]
  },
  {
   "cell_type": "code",
   "execution_count": 190,
   "metadata": {},
   "outputs": [
    {
     "name": "stdout",
     "output_type": "stream",
     "text": [
      "<78837x250124 sparse matrix of type '<class 'numpy.int32'>'\n",
      "\twith 689868 stored elements in COOrdinate format>\n"
     ]
    }
   ],
   "source": [
    "(interactions, weights) = lfmdataset.build_interactions((row for row in books_ratings_train.values))\n",
    "\n",
    "print(repr(interactions))"
   ]
  },
  {
   "cell_type": "code",
   "execution_count": 191,
   "metadata": {},
   "outputs": [],
   "source": [
    "lfmodel = LightFM(loss='warp')"
   ]
  },
  {
   "cell_type": "code",
   "execution_count": 192,
   "metadata": {},
   "outputs": [
    {
     "data": {
      "text/plain": [
       "<lightfm.lightfm.LightFM at 0x7f68a09b1f70>"
      ]
     },
     "execution_count": 192,
     "metadata": {},
     "output_type": "execute_result"
    }
   ],
   "source": [
    "lfmodel.fit(interactions)"
   ]
  },
  {
   "cell_type": "code",
   "execution_count": 193,
   "metadata": {},
   "outputs": [],
   "source": [
    "def lightFM_recommendations(dataset,\n",
    "                            model,\n",
    "                            user_id_ext_list,\n",
    "                            non_pers_reco_list,\n",
    "                            k_top: int,\n",
    "                            item_features = None):   \n",
    "    \"\"\"\n",
    "    Create output dataframe with recommendations based on dataset, model and list of users.\n",
    "    \n",
    "    This function predicts recommendations for users specified in user_id_ext_list that are present in the lightFM dataset.\n",
    "    New users are recommended the items in the non-personalized list non_per_reco_list.\n",
    "    \n",
    "    Parameters:\n",
    "    -----------\n",
    "    dataset: lightFM dataset\n",
    "    \n",
    "    model: lightFM trained model\n",
    "    \n",
    "    user_id_ext_list: list of user external IDs to predict\n",
    "    \n",
    "    non_pers_reco: list of non-personalized recommendations ordered from best to worst rated\n",
    "    \n",
    "    k_top: number of recommendations to create per user\n",
    "    \n",
    "    item_features: lightFM item features\n",
    "    \n",
    "    Returns:\n",
    "    --------\n",
    "    final_reco_df: dataframe with users' recommendations\n",
    "    The first column has the users' ID and the remaining columns have the recommendations\n",
    "    \"\"\"\n",
    "    \n",
    "    assert len(user_id_ext_list) > 0, \"User ID list length must be larger than 0.\"\n",
    "    \n",
    "    # Dataset mappings\n",
    "    user_id_map, user_feature_map, item_id_map, item_feature_map = dataset.mapping()\n",
    "    \n",
    "    # reverse mapping\n",
    "    item_id_map_reverse = {v: k for k, v in item_id_map.items()}\n",
    "    user_id_map_reverse = {v: k for k, v in user_id_map.items()}\n",
    "    \n",
    "    \n",
    "    # item internal ids\n",
    "    item_id_int_list = list(item_id_map.values())\n",
    "    \n",
    "    # Split old users (user_id_int_list) from new users (user_id_ext_excluded)\n",
    "    # Old users are defined in the ratings vectorial space.\n",
    "    # New users are not defined in the ratings vectorial space.\n",
    "    # New users receive non-personalized recommendations.\n",
    "    user_id_int_list = []\n",
    "    user_id_ext_excluded = []\n",
    "    \n",
    "    for user_id_ext in user_id_ext_list:\n",
    "        try:\n",
    "            user_id_int_list.append(user_id_map[user_id_ext])\n",
    "        except:\n",
    "            user_id_ext_excluded.append(user_id_ext)\n",
    "    \n",
    "    # Dataframe to store model recommendations\n",
    "    model_reco_df = pd.DataFrame()\n",
    "    \n",
    "    # Model recommendations\n",
    "    for user_id in user_id_int_list:\n",
    "        scores = model.predict(user_id, item_id_int_list, item_features)\n",
    "        top_items_ids = np.argsort(-scores)\n",
    "        top_items_ids = [item_id_map_reverse[ids] for ids in top_items_ids]\n",
    "         \n",
    "        # Individual row. Two steps are necessary for the first row to call \"user_id\"\n",
    "        user_id_df = pd.DataFrame([user_id_map_reverse[user_id]], columns=[\"user_id\"], dtype = int)\n",
    "        top_items_ids = pd.DataFrame([top_items_ids[:k_top]])\n",
    "        user_reco_df = pd.concat([user_id_df, top_items_ids], axis=1)\n",
    "        \n",
    "        # Concatenating rows\n",
    "        model_reco_df = pd.concat([model_reco_df, user_reco_df])\n",
    "        \n",
    "        # Stop execution if memory is almost full\n",
    "        #memory_circuit_breaker(memory_limit_perc)\n",
    "        \n",
    "        \n",
    "    # Non-personalized recommendations\n",
    "    non_pers_reco_df = non_pers_reco_output(user_id_ext_excluded, non_pers_reco_list)\n",
    "    \n",
    "    # Concatenating all recommendations\n",
    "    if model_reco_df.shape[0] == 0:\n",
    "        final_reco_df = non_pers_reco_df\n",
    "    elif non_pers_reco_df.shape[0] == 0:\n",
    "        final_reco_df = model_reco_df\n",
    "    else:\n",
    "        final_reco_df = pd.concat([model_reco_df, non_pers_reco_df])\n",
    "    \n",
    "    return final_reco_df"
   ]
  },
  {
   "cell_type": "markdown",
   "metadata": {},
   "source": [
    "## Evaluate results (Again)\n",
    "- Calculate the evaluation metric on the validation users."
   ]
  },
  {
   "cell_type": "code",
   "execution_count": 194,
   "metadata": {},
   "outputs": [
    {
     "name": "stdout",
     "output_type": "stream",
     "text": [
      "Recommendations were saved on file collaborative_recommendations_VAL.csv.\n"
     ]
    }
   ],
   "source": [
    "collab_reco_val = lightFM_recommendations(lfmdataset, lfmodel, users_val, non_pers_recommendations, k_top=20)\n",
    "save_recommendations(collab_reco_val, \"collaborative_recommendations_VAL\")"
   ]
  },
  {
   "cell_type": "code",
   "execution_count": 195,
   "metadata": {},
   "outputs": [
    {
     "data": {
      "text/plain": [
       "0.0"
      ]
     },
     "execution_count": 195,
     "metadata": {},
     "output_type": "execute_result"
    }
   ],
   "source": [
    "evaluate_solution('collaborative_recommendations_VAL', 'validation_recommendations')"
   ]
  },
  {
   "cell_type": "code",
   "execution_count": 196,
   "metadata": {},
   "outputs": [
    {
     "name": "stdout",
     "output_type": "stream",
     "text": [
      "Recommendations were saved on file collaborative_recommendations_TEST.csv.\n"
     ]
    }
   ],
   "source": [
    "collab_reco_test = lightFM_recommendations(lfmdataset, lfmodel, test_users, non_pers_recommendations, k_top=20)\n",
    "save_recommendations(collab_reco_test, \"collaborative_recommendations_TEST\")"
   ]
  },
  {
   "cell_type": "markdown",
   "metadata": {},
   "source": [
    "## Content-based Recommendations\n",
    "\n",
    "- Compute the item similarities matrix.\n",
    "- Predict ratings.\n",
    "- Select the best recommendations.\n",
    "- Submit recommendations."
   ]
  },
  {
   "attachments": {},
   "cell_type": "markdown",
   "metadata": {},
   "source": [
    "Exploring and cleaning the books information data"
   ]
  },
  {
   "cell_type": "code",
   "execution_count": 200,
   "metadata": {},
   "outputs": [
    {
     "data": {
      "text/html": [
       "<div>\n",
       "<style scoped>\n",
       "    .dataframe tbody tr th:only-of-type {\n",
       "        vertical-align: middle;\n",
       "    }\n",
       "\n",
       "    .dataframe tbody tr th {\n",
       "        vertical-align: top;\n",
       "    }\n",
       "\n",
       "    .dataframe thead th {\n",
       "        text-align: right;\n",
       "    }\n",
       "</style>\n",
       "<table border=\"1\" class=\"dataframe\">\n",
       "  <thead>\n",
       "    <tr style=\"text-align: right;\">\n",
       "      <th></th>\n",
       "      <th>ISBN</th>\n",
       "      <th>Book-Title</th>\n",
       "      <th>Book-Author</th>\n",
       "      <th>Year-Of-Publication</th>\n",
       "      <th>Publisher</th>\n",
       "    </tr>\n",
       "  </thead>\n",
       "  <tbody>\n",
       "    <tr>\n",
       "      <th>0</th>\n",
       "      <td>0195153448</td>\n",
       "      <td>Classical Mythology</td>\n",
       "      <td>Mark P. O. Morford</td>\n",
       "      <td>2002</td>\n",
       "      <td>Oxford University Press</td>\n",
       "    </tr>\n",
       "    <tr>\n",
       "      <th>1</th>\n",
       "      <td>0002005018</td>\n",
       "      <td>Clara Callan</td>\n",
       "      <td>Richard Bruce Wright</td>\n",
       "      <td>2001</td>\n",
       "      <td>HarperFlamingo Canada</td>\n",
       "    </tr>\n",
       "    <tr>\n",
       "      <th>2</th>\n",
       "      <td>0060973129</td>\n",
       "      <td>Decision in Normandy</td>\n",
       "      <td>Carlo D'Este</td>\n",
       "      <td>1991</td>\n",
       "      <td>HarperPerennial</td>\n",
       "    </tr>\n",
       "    <tr>\n",
       "      <th>3</th>\n",
       "      <td>0374157065</td>\n",
       "      <td>Flu: The Story of the Great Influenza Pandemic...</td>\n",
       "      <td>Gina Bari Kolata</td>\n",
       "      <td>1999</td>\n",
       "      <td>Farrar Straus Giroux</td>\n",
       "    </tr>\n",
       "    <tr>\n",
       "      <th>4</th>\n",
       "      <td>0393045218</td>\n",
       "      <td>The Mummies of Urumchi</td>\n",
       "      <td>E. J. W. Barber</td>\n",
       "      <td>1999</td>\n",
       "      <td>W. W. Norton &amp;amp; Company</td>\n",
       "    </tr>\n",
       "  </tbody>\n",
       "</table>\n",
       "</div>"
      ],
      "text/plain": [
       "         ISBN                                         Book-Title  \\\n",
       "0  0195153448                                Classical Mythology   \n",
       "1  0002005018                                       Clara Callan   \n",
       "2  0060973129                               Decision in Normandy   \n",
       "3  0374157065  Flu: The Story of the Great Influenza Pandemic...   \n",
       "4  0393045218                             The Mummies of Urumchi   \n",
       "\n",
       "            Book-Author Year-Of-Publication                   Publisher  \n",
       "0    Mark P. O. Morford                2002     Oxford University Press  \n",
       "1  Richard Bruce Wright                2001       HarperFlamingo Canada  \n",
       "2          Carlo D'Este                1991             HarperPerennial  \n",
       "3      Gina Bari Kolata                1999        Farrar Straus Giroux  \n",
       "4       E. J. W. Barber                1999  W. W. Norton &amp; Company  "
      ]
     },
     "execution_count": 200,
     "metadata": {},
     "output_type": "execute_result"
    }
   ],
   "source": [
    "books.head()"
   ]
  },
  {
   "cell_type": "code",
   "execution_count": 211,
   "metadata": {},
   "outputs": [],
   "source": [
    "try:\n",
    "    books[\"Year-Of-Publication\"] = books[\"Year-Of-Publication\"].astype(float)\n",
    "except:\n",
    "    books[\"Year-Of-Publication\"] = books[\"Year-Of-Publication\"].astype(str)"
   ]
  },
  {
   "cell_type": "code",
   "execution_count": 212,
   "metadata": {},
   "outputs": [
    {
     "data": {
      "text/plain": [
       "ISBN                   object\n",
       "Book-Title             object\n",
       "Book-Author            object\n",
       "Year-Of-Publication    object\n",
       "Publisher              object\n",
       "dtype: object"
      ]
     },
     "execution_count": 212,
     "metadata": {},
     "output_type": "execute_result"
    }
   ],
   "source": [
    "books.dtypes"
   ]
  },
  {
   "cell_type": "code",
   "execution_count": 213,
   "metadata": {},
   "outputs": [
    {
     "data": {
      "text/plain": [
       "0         2002\n",
       "1         2001\n",
       "2         1991\n",
       "3         1999\n",
       "4         1999\n",
       "          ... \n",
       "271355    1988\n",
       "271356    1991\n",
       "271357    2004\n",
       "271358    1996\n",
       "271359    2000\n",
       "Name: Year-Of-Publication, Length: 271360, dtype: object"
      ]
     },
     "execution_count": 213,
     "metadata": {},
     "output_type": "execute_result"
    }
   ],
   "source": [
    "books[\"Year-Of-Publication\"] "
   ]
  },
  {
   "cell_type": "code",
   "execution_count": 216,
   "metadata": {},
   "outputs": [
    {
     "data": {
      "text/html": [
       "<div>\n",
       "<style scoped>\n",
       "    .dataframe tbody tr th:only-of-type {\n",
       "        vertical-align: middle;\n",
       "    }\n",
       "\n",
       "    .dataframe tbody tr th {\n",
       "        vertical-align: top;\n",
       "    }\n",
       "\n",
       "    .dataframe thead th {\n",
       "        text-align: right;\n",
       "    }\n",
       "</style>\n",
       "<table border=\"1\" class=\"dataframe\">\n",
       "  <thead>\n",
       "    <tr style=\"text-align: right;\">\n",
       "      <th></th>\n",
       "      <th>ISBN</th>\n",
       "      <th>Book-Title</th>\n",
       "      <th>Book-Author</th>\n",
       "      <th>Year-Of-Publication</th>\n",
       "      <th>Publisher</th>\n",
       "    </tr>\n",
       "  </thead>\n",
       "  <tbody>\n",
       "    <tr>\n",
       "      <th>220731</th>\n",
       "      <td>2070426769</td>\n",
       "      <td>Peuple du ciel, suivi de 'Les Bergers\";Jean-Ma...</td>\n",
       "      <td>2003</td>\n",
       "      <td>Gallimard</td>\n",
       "      <td>http://images.amazon.com/images/P/2070426769.0...</td>\n",
       "    </tr>\n",
       "  </tbody>\n",
       "</table>\n",
       "</div>"
      ],
      "text/plain": [
       "              ISBN                                         Book-Title  \\\n",
       "220731  2070426769  Peuple du ciel, suivi de 'Les Bergers\";Jean-Ma...   \n",
       "\n",
       "       Book-Author Year-Of-Publication  \\\n",
       "220731        2003           Gallimard   \n",
       "\n",
       "                                                Publisher  \n",
       "220731  http://images.amazon.com/images/P/2070426769.0...  "
      ]
     },
     "execution_count": 216,
     "metadata": {},
     "output_type": "execute_result"
    }
   ],
   "source": [
    "books.loc[books[\"Year-Of-Publication\"] == books[\"Year-Of-Publication\"].max()]"
   ]
  },
  {
   "cell_type": "markdown",
   "metadata": {},
   "source": [
    "## Evaluate results (Yet again)\n",
    "- Calculate the evaluation metric on the validation users."
   ]
  },
  {
   "cell_type": "code",
   "execution_count": 198,
   "metadata": {},
   "outputs": [],
   "source": [
    "# YOUR CODE HERE"
   ]
  },
  {
   "cell_type": "markdown",
   "metadata": {},
   "source": [
    "## Potential improvements\n",
    "\n",
    "At this point you can try to improve your prediction using several approaches:\n",
    "- Aggregation of ratings from different sources. \n",
    "- Mixing Collaborative Filtering and Content-based Recommendations.\n",
    "- Matrix Factorization.\n",
    "- Could you use a classification or regression models to predict users' preference? 🤔"
   ]
  },
  {
   "cell_type": "code",
   "execution_count": 199,
   "metadata": {},
   "outputs": [],
   "source": [
    "# YOUR CODE HERE"
   ]
  }
 ],
 "metadata": {
  "kernelspec": {
   "display_name": "Python 3 (ipykernel)",
   "language": "python",
   "name": "python3"
  },
  "language_info": {
   "codemirror_mode": {
    "name": "ipython",
    "version": 3
   },
   "file_extension": ".py",
   "mimetype": "text/x-python",
   "name": "python",
   "nbconvert_exporter": "python",
   "pygments_lexer": "ipython3",
   "version": "3.8.16"
  }
 },
 "nbformat": 4,
 "nbformat_minor": 4
}
