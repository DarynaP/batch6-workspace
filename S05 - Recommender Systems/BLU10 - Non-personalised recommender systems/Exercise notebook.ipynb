{
 "cells": [
  {
   "cell_type": "code",
   "execution_count": 1,
   "metadata": {
    "deletable": false,
    "editable": false,
    "nbgrader": {
     "grade": false,
     "grade_id": "cell-feb6e21eefee82a6",
     "locked": true,
     "schema_version": 3,
     "solution": false,
     "task": false
    }
   },
   "outputs": [],
   "source": [
    "# Import all the necessary dependencies\n",
    "import os\n",
    "import numpy as np\n",
    "import scipy as sp\n",
    "import pandas as pd\n",
    "import scipy.sparse\n",
    "from mlxtend.frequent_patterns import apriori\n",
    "import hashlib # for grading purposes"
   ]
  },
  {
   "cell_type": "markdown",
   "metadata": {
    "deletable": false,
    "editable": false,
    "nbgrader": {
     "grade": false,
     "grade_id": "cell-83b6d09650b71757",
     "locked": true,
     "schema_version": 3,
     "solution": false,
     "task": false
    }
   },
   "source": [
    "# You will be working with data from an Online Book Store. \n",
    "\n",
    "### Every time a customer buys a book, the customer can rate the book and the Book Store uses that data to create recommendations to future customers.\n",
    "\n",
    "### In this exercise you will have the opportunity to help the Book Store team to choose which books to display in different areas of the website."
   ]
  },
  {
   "cell_type": "markdown",
   "metadata": {
    "deletable": false,
    "editable": false,
    "nbgrader": {
     "grade": false,
     "grade_id": "cell-05da60f53bf137c7",
     "locked": true,
     "schema_version": 3,
     "solution": false,
     "task": false
    }
   },
   "source": [
    "## Task 1: Understanding the data\n",
    "\n",
    "Data is available in the `./data/` folder. In this folder you will find 2 files:\n",
    "\n",
    "* `BookRatings.csv` has the historical ratings given by the customers and represents all the books sold. \n",
    "* `BooksInfo.csv`: has the information about the main genre of the book. "
   ]
  },
  {
   "cell_type": "code",
   "execution_count": 2,
   "metadata": {
    "deletable": false,
    "editable": false,
    "nbgrader": {
     "grade": false,
     "grade_id": "cell-f72731d85109d7df",
     "locked": true,
     "schema_version": 3,
     "solution": false,
     "task": false
    }
   },
   "outputs": [],
   "source": [
    "ratings = pd.read_csv('data/BookRatings.csv')\n",
    "books_info = pd.read_csv('data/BooksInfo.csv')"
   ]
  },
  {
   "cell_type": "markdown",
   "metadata": {
    "deletable": false,
    "editable": false,
    "nbgrader": {
     "grade": false,
     "grade_id": "cell-c4a8d34771964895",
     "locked": true,
     "schema_version": 3,
     "solution": false,
     "task": false
    }
   },
   "source": [
    "Look at the raw files and print out the first rows of each file."
   ]
  },
  {
   "cell_type": "code",
   "execution_count": 3,
   "metadata": {
    "deletable": false,
    "editable": false,
    "nbgrader": {
     "grade": false,
     "grade_id": "cell-38265f9e87586b2d",
     "locked": true,
     "schema_version": 3,
     "solution": false,
     "task": false
    }
   },
   "outputs": [
    {
     "data": {
      "text/html": [
       "<div>\n",
       "<style scoped>\n",
       "    .dataframe tbody tr th:only-of-type {\n",
       "        vertical-align: middle;\n",
       "    }\n",
       "\n",
       "    .dataframe tbody tr th {\n",
       "        vertical-align: top;\n",
       "    }\n",
       "\n",
       "    .dataframe thead th {\n",
       "        text-align: right;\n",
       "    }\n",
       "</style>\n",
       "<table border=\"1\" class=\"dataframe\">\n",
       "  <thead>\n",
       "    <tr style=\"text-align: right;\">\n",
       "      <th></th>\n",
       "      <th>User-ID</th>\n",
       "      <th>ISBN</th>\n",
       "      <th>Book-Rating</th>\n",
       "    </tr>\n",
       "  </thead>\n",
       "  <tbody>\n",
       "    <tr>\n",
       "      <th>0</th>\n",
       "      <td>1155</td>\n",
       "      <td>0451402103</td>\n",
       "      <td>8</td>\n",
       "    </tr>\n",
       "    <tr>\n",
       "      <th>1</th>\n",
       "      <td>1155</td>\n",
       "      <td>0671689231</td>\n",
       "      <td>7</td>\n",
       "    </tr>\n",
       "    <tr>\n",
       "      <th>2</th>\n",
       "      <td>1155</td>\n",
       "      <td>0671032658</td>\n",
       "      <td>9</td>\n",
       "    </tr>\n",
       "    <tr>\n",
       "      <th>3</th>\n",
       "      <td>1155</td>\n",
       "      <td>0671701053</td>\n",
       "      <td>5</td>\n",
       "    </tr>\n",
       "    <tr>\n",
       "      <th>4</th>\n",
       "      <td>1155</td>\n",
       "      <td>0451409256</td>\n",
       "      <td>9</td>\n",
       "    </tr>\n",
       "  </tbody>\n",
       "</table>\n",
       "</div>"
      ],
      "text/plain": [
       "   User-ID        ISBN  Book-Rating\n",
       "0     1155  0451402103            8\n",
       "1     1155  0671689231            7\n",
       "2     1155  0671032658            9\n",
       "3     1155  0671701053            5\n",
       "4     1155  0451409256            9"
      ]
     },
     "execution_count": 3,
     "metadata": {},
     "output_type": "execute_result"
    }
   ],
   "source": [
    "#BookRatings\n",
    "ratings.head()"
   ]
  },
  {
   "cell_type": "code",
   "execution_count": 4,
   "metadata": {
    "deletable": false,
    "editable": false,
    "nbgrader": {
     "grade": false,
     "grade_id": "cell-7d371562015360bf",
     "locked": true,
     "schema_version": 3,
     "solution": false,
     "task": false
    }
   },
   "outputs": [
    {
     "data": {
      "text/html": [
       "<div>\n",
       "<style scoped>\n",
       "    .dataframe tbody tr th:only-of-type {\n",
       "        vertical-align: middle;\n",
       "    }\n",
       "\n",
       "    .dataframe tbody tr th {\n",
       "        vertical-align: top;\n",
       "    }\n",
       "\n",
       "    .dataframe thead th {\n",
       "        text-align: right;\n",
       "    }\n",
       "</style>\n",
       "<table border=\"1\" class=\"dataframe\">\n",
       "  <thead>\n",
       "    <tr style=\"text-align: right;\">\n",
       "      <th></th>\n",
       "      <th>ISBN</th>\n",
       "      <th>Genre</th>\n",
       "    </tr>\n",
       "  </thead>\n",
       "  <tbody>\n",
       "    <tr>\n",
       "      <th>0</th>\n",
       "      <td>0195153448</td>\n",
       "      <td>Social Science</td>\n",
       "    </tr>\n",
       "    <tr>\n",
       "      <th>1</th>\n",
       "      <td>0002005018</td>\n",
       "      <td>Actresses</td>\n",
       "    </tr>\n",
       "    <tr>\n",
       "      <th>2</th>\n",
       "      <td>0060973129</td>\n",
       "      <td>1940-1949</td>\n",
       "    </tr>\n",
       "    <tr>\n",
       "      <th>3</th>\n",
       "      <td>0374157065</td>\n",
       "      <td>Medical</td>\n",
       "    </tr>\n",
       "    <tr>\n",
       "      <th>4</th>\n",
       "      <td>0393045218</td>\n",
       "      <td>Design</td>\n",
       "    </tr>\n",
       "  </tbody>\n",
       "</table>\n",
       "</div>"
      ],
      "text/plain": [
       "         ISBN           Genre\n",
       "0  0195153448  Social Science\n",
       "1  0002005018       Actresses\n",
       "2  0060973129       1940-1949\n",
       "3  0374157065         Medical\n",
       "4  0393045218          Design"
      ]
     },
     "execution_count": 4,
     "metadata": {},
     "output_type": "execute_result"
    }
   ],
   "source": [
    "#BooksInfo\n",
    "books_info.head()"
   ]
  },
  {
   "cell_type": "markdown",
   "metadata": {
    "deletable": false,
    "editable": false,
    "nbgrader": {
     "grade": false,
     "grade_id": "cell-cb1a11186f0d5074",
     "locked": true,
     "schema_version": 3,
     "solution": false,
     "task": false
    }
   },
   "source": [
    "### Task 1.1 EDA (ungraded)\n",
    "- check for Ratings with incomplete data, \n",
    "- check for the duplicate records in ratings \n",
    "- check for books without Genre"
   ]
  },
  {
   "cell_type": "code",
   "execution_count": 5,
   "metadata": {},
   "outputs": [
    {
     "data": {
      "text/plain": [
       "array([  1155,   1211,   1248, ..., 278633, 278843, 278851])"
      ]
     },
     "execution_count": 5,
     "metadata": {},
     "output_type": "execute_result"
    }
   ],
   "source": [
    "### Your answer\n",
    "pd.unique(ratings['User-ID'])"
   ]
  },
  {
   "cell_type": "code",
   "execution_count": 6,
   "metadata": {},
   "outputs": [
    {
     "data": {
      "text/html": [
       "<div>\n",
       "<style scoped>\n",
       "    .dataframe tbody tr th:only-of-type {\n",
       "        vertical-align: middle;\n",
       "    }\n",
       "\n",
       "    .dataframe tbody tr th {\n",
       "        vertical-align: top;\n",
       "    }\n",
       "\n",
       "    .dataframe thead th {\n",
       "        text-align: right;\n",
       "    }\n",
       "</style>\n",
       "<table border=\"1\" class=\"dataframe\">\n",
       "  <thead>\n",
       "    <tr style=\"text-align: right;\">\n",
       "      <th></th>\n",
       "      <th>User-ID</th>\n",
       "      <th>ISBN</th>\n",
       "      <th>Book-Rating</th>\n",
       "    </tr>\n",
       "  </thead>\n",
       "  <tbody>\n",
       "  </tbody>\n",
       "</table>\n",
       "</div>"
      ],
      "text/plain": [
       "Empty DataFrame\n",
       "Columns: [User-ID, ISBN, Book-Rating]\n",
       "Index: []"
      ]
     },
     "execution_count": 6,
     "metadata": {},
     "output_type": "execute_result"
    }
   ],
   "source": [
    "#duplicate records in ratings\n",
    "ratings[ratings.duplicated()]"
   ]
  },
  {
   "cell_type": "code",
   "execution_count": 7,
   "metadata": {},
   "outputs": [
    {
     "data": {
      "text/html": [
       "<div>\n",
       "<style scoped>\n",
       "    .dataframe tbody tr th:only-of-type {\n",
       "        vertical-align: middle;\n",
       "    }\n",
       "\n",
       "    .dataframe tbody tr th {\n",
       "        vertical-align: top;\n",
       "    }\n",
       "\n",
       "    .dataframe thead th {\n",
       "        text-align: right;\n",
       "    }\n",
       "</style>\n",
       "<table border=\"1\" class=\"dataframe\">\n",
       "  <thead>\n",
       "    <tr style=\"text-align: right;\">\n",
       "      <th></th>\n",
       "      <th>ISBN</th>\n",
       "      <th>Genre</th>\n",
       "    </tr>\n",
       "  </thead>\n",
       "  <tbody>\n",
       "    <tr>\n",
       "      <th>27</th>\n",
       "      <td>3404921038</td>\n",
       "      <td>NaN</td>\n",
       "    </tr>\n",
       "    <tr>\n",
       "      <th>28</th>\n",
       "      <td>3442353866</td>\n",
       "      <td>NaN</td>\n",
       "    </tr>\n",
       "    <tr>\n",
       "      <th>46</th>\n",
       "      <td>0961769947</td>\n",
       "      <td>NaN</td>\n",
       "    </tr>\n",
       "    <tr>\n",
       "      <th>117</th>\n",
       "      <td>8420639133</td>\n",
       "      <td>NaN</td>\n",
       "    </tr>\n",
       "    <tr>\n",
       "      <th>129</th>\n",
       "      <td>3257212054</td>\n",
       "      <td>NaN</td>\n",
       "    </tr>\n",
       "    <tr>\n",
       "      <th>...</th>\n",
       "      <td>...</td>\n",
       "      <td>...</td>\n",
       "    </tr>\n",
       "    <tr>\n",
       "      <th>112326</th>\n",
       "      <td>3423200944</td>\n",
       "      <td>NaN</td>\n",
       "    </tr>\n",
       "    <tr>\n",
       "      <th>112328</th>\n",
       "      <td>3548740146</td>\n",
       "      <td>NaN</td>\n",
       "    </tr>\n",
       "    <tr>\n",
       "      <th>112330</th>\n",
       "      <td>3257217323</td>\n",
       "      <td>NaN</td>\n",
       "    </tr>\n",
       "    <tr>\n",
       "      <th>112337</th>\n",
       "      <td>1845170423</td>\n",
       "      <td>NaN</td>\n",
       "    </tr>\n",
       "    <tr>\n",
       "      <th>112340</th>\n",
       "      <td>0192126040</td>\n",
       "      <td>NaN</td>\n",
       "    </tr>\n",
       "  </tbody>\n",
       "</table>\n",
       "<p>16914 rows × 2 columns</p>\n",
       "</div>"
      ],
      "text/plain": [
       "              ISBN Genre\n",
       "27      3404921038   NaN\n",
       "28      3442353866   NaN\n",
       "46      0961769947   NaN\n",
       "117     8420639133   NaN\n",
       "129     3257212054   NaN\n",
       "...            ...   ...\n",
       "112326  3423200944   NaN\n",
       "112328  3548740146   NaN\n",
       "112330  3257217323   NaN\n",
       "112337  1845170423   NaN\n",
       "112340  0192126040   NaN\n",
       "\n",
       "[16914 rows x 2 columns]"
      ]
     },
     "execution_count": 7,
     "metadata": {},
     "output_type": "execute_result"
    }
   ],
   "source": [
    "#books without Genre\n",
    "books_info[books_info['Genre'].isna()]"
   ]
  },
  {
   "cell_type": "markdown",
   "metadata": {
    "deletable": false,
    "editable": false,
    "nbgrader": {
     "grade": false,
     "grade_id": "cell-0dafd9c5d89c379c",
     "locked": true,
     "schema_version": 3,
     "solution": false,
     "task": false
    }
   },
   "source": [
    "## Task 2: Rating Matrix"
   ]
  },
  {
   "cell_type": "markdown",
   "metadata": {
    "deletable": false,
    "editable": false,
    "nbgrader": {
     "grade": false,
     "grade_id": "cell-fbcc2caac0633412",
     "locked": true,
     "schema_version": 3,
     "solution": false,
     "task": false
    }
   },
   "source": [
    "### Task 2.1: Create the ratings matrix"
   ]
  },
  {
   "cell_type": "code",
   "execution_count": 8,
   "metadata": {
    "deletable": false,
    "nbgrader": {
     "grade": false,
     "grade_id": "cell-a955efe724b3038b",
     "locked": false,
     "schema_version": 3,
     "solution": true,
     "task": false
    }
   },
   "outputs": [
    {
     "data": {
      "text/plain": [
       "'We have 5693 users and 47711 items.'"
      ]
     },
     "execution_count": 8,
     "metadata": {},
     "output_type": "execute_result"
    }
   ],
   "source": [
    "def make_ratings(data):\n",
    "    \"\"\"\n",
    "    Parameters\n",
    "        data - the ratings dataframe with ratings per ISBN and User-ID\n",
    "        \n",
    "    Returns:\n",
    "        R - (numpy.ndarray) Ratings matrix with the User-ID, ISBN and Book-Rating\n",
    "        hint: don't forget to put zeros in places where you do not have ratings\n",
    "    \n",
    "    Extra Hint: Your input is a pandas DataFrame but you want to output an array (use .to_numpy)!\n",
    "    \"\"\"\n",
    "\n",
    "    # YOUR CODE HERE\n",
    "\n",
    "    matrix_dataframe = pd.DataFrame(data).pivot(index='User-ID', columns='ISBN', \n",
    "    values='Book-Rating').fillna(0)\n",
    "    data_matrix = matrix_dataframe.to_numpy()\n",
    "    return data_matrix\n",
    "\n",
    "R = make_ratings(ratings)\n",
    "\n",
    "f\"We have {R.shape[0]} users and {R.shape[1]} items.\""
   ]
  },
  {
   "cell_type": "code",
   "execution_count": 9,
   "metadata": {},
   "outputs": [
    {
     "data": {
      "text/plain": [
       "array([[0., 0., 0., ..., 0., 0., 0.],\n",
       "       [0., 0., 0., ..., 0., 0., 0.],\n",
       "       [0., 0., 0., ..., 0., 0., 0.],\n",
       "       ...,\n",
       "       [0., 0., 0., ..., 0., 0., 0.],\n",
       "       [0., 0., 0., ..., 0., 0., 0.],\n",
       "       [0., 0., 0., ..., 0., 0., 0.]])"
      ]
     },
     "execution_count": 9,
     "metadata": {},
     "output_type": "execute_result"
    }
   ],
   "source": [
    "R"
   ]
  },
  {
   "cell_type": "code",
   "execution_count": 10,
   "metadata": {
    "deletable": false,
    "editable": false,
    "nbgrader": {
     "grade": true,
     "grade_id": "cell-bcf35c84a0d83618",
     "locked": true,
     "points": 2,
     "schema_version": 3,
     "solution": false,
     "task": false
    }
   },
   "outputs": [],
   "source": [
    "expected_hash = '226ef8abe773e3aceec1c057383c1628959c25882846e686412ef7e1ff96873d'\n",
    "assert hashlib.sha256(str(R.shape).encode()).hexdigest() == expected_hash\n",
    "\n",
    "expected_hash_1 = '0729c13ebd725201c1445a00c825237d305ff650cd72f50e45259bd942a75ef4'\n",
    "assert hashlib.sha256(str(R[0].sum()).encode()).hexdigest() == expected_hash_1\n",
    "\n",
    "expected_hash_2 = 'f1e42019aecc858ffbcca7fddec511b761b474916fde37b1a6ff321a9b459330'\n",
    "assert hashlib.sha256(str(R[:,0].sum()).encode()).hexdigest() == expected_hash_2"
   ]
  },
  {
   "cell_type": "markdown",
   "metadata": {
    "deletable": false,
    "editable": false,
    "nbgrader": {
     "grade": false,
     "grade_id": "cell-fa7fd988a22f4cad",
     "locked": true,
     "schema_version": 3,
     "solution": false,
     "task": false
    }
   },
   "source": [
    "### Task 2.2: Convert the Ratings Matrix to a Sparse Representation"
   ]
  },
  {
   "cell_type": "code",
   "execution_count": 11,
   "metadata": {
    "deletable": false,
    "nbgrader": {
     "grade": false,
     "grade_id": "cell-0ed9b0b0e0afedb5",
     "locked": false,
     "schema_version": 3,
     "solution": true,
     "task": false
    }
   },
   "outputs": [],
   "source": [
    "from scipy.sparse import csr_matrix\n",
    "\n",
    "def get_csr(matrix):\n",
    "    \"\"\"\n",
    "    Parameters\n",
    "        matrix - The Ratings Matrix.\n",
    "    \n",
    "    Returns\n",
    "        H - The Compressed Sparse Row Matrix\n",
    "        \n",
    "    \"\"\"\n",
    "    H = csr_matrix(matrix)\n",
    "    return H\n",
    "    \n",
    "sparse_mat = get_csr(R)"
   ]
  },
  {
   "cell_type": "code",
   "execution_count": 12,
   "metadata": {
    "deletable": false,
    "editable": false,
    "nbgrader": {
     "grade": true,
     "grade_id": "cell-08a3664bf682ee47",
     "locked": true,
     "points": 2,
     "schema_version": 3,
     "solution": false,
     "task": false
    }
   },
   "outputs": [],
   "source": [
    "expected_hash = '3068469d4140f3f5fd47d88d14718db567a2ed03bf28240202061d61ea56147c'\n",
    "assert hashlib.sha256(str(sparse_mat).encode()).hexdigest() == expected_hash"
   ]
  },
  {
   "cell_type": "markdown",
   "metadata": {
    "deletable": false,
    "editable": false,
    "nbgrader": {
     "grade": false,
     "grade_id": "cell-54e25b8c1ec7101d",
     "locked": true,
     "schema_version": 3,
     "solution": false,
     "task": false
    }
   },
   "source": [
    "### Task 2.3: Calculate the density score of the matrix"
   ]
  },
  {
   "cell_type": "code",
   "execution_count": 13,
   "metadata": {
    "deletable": false,
    "nbgrader": {
     "grade": false,
     "grade_id": "cell-e0d67b7597def46d",
     "locked": false,
     "schema_version": 3,
     "solution": true,
     "task": false
    }
   },
   "outputs": [
    {
     "data": {
      "text/plain": [
       "'The Density Score is 0.0004009664679853458.'"
      ]
     },
     "execution_count": 13,
     "metadata": {},
     "output_type": "execute_result"
    }
   ],
   "source": [
    "def get_density_score(matrix):\n",
    "    \"\"\"\n",
    "    Parameters\n",
    "        matrix - Ratings Matrix\n",
    "        \n",
    "    Returns:\n",
    "        dense_score - (float) Density Score of Orig Matrix. \n",
    "    \"\"\"\n",
    "    # YOUR CODE HERE\n",
    "    R = matrix\n",
    "    dense_score = R[R.nonzero()].size / R.size\n",
    "    return dense_score\n",
    "    \n",
    "dense_score = get_density_score(R)\n",
    "f\"The Density Score is {dense_score}.\""
   ]
  },
  {
   "cell_type": "code",
   "execution_count": 14,
   "metadata": {
    "deletable": false,
    "editable": false,
    "nbgrader": {
     "grade": true,
     "grade_id": "cell-4a00699d27e75157",
     "locked": true,
     "points": 2,
     "schema_version": 3,
     "solution": false,
     "task": false
    }
   },
   "outputs": [],
   "source": [
    "np.testing.assert_almost_equal(dense_score,0.0004,4)"
   ]
  },
  {
   "cell_type": "markdown",
   "metadata": {
    "deletable": false,
    "editable": false,
    "nbgrader": {
     "grade": false,
     "grade_id": "cell-53be2988ab745411",
     "locked": true,
     "schema_version": 3,
     "solution": false,
     "task": false
    }
   },
   "source": [
    "## Task 3: Non-personalized Recommendations"
   ]
  },
  {
   "cell_type": "markdown",
   "metadata": {
    "deletable": false,
    "editable": false,
    "nbgrader": {
     "grade": false,
     "grade_id": "cell-ecb5760a05c9a81d",
     "locked": true,
     "schema_version": 3,
     "solution": false,
     "task": false
    }
   },
   "source": [
    "### Task 3.0: Merge the 2 datasets (rating and books_info)"
   ]
  },
  {
   "cell_type": "markdown",
   "metadata": {
    "deletable": false,
    "editable": false,
    "nbgrader": {
     "grade": false,
     "grade_id": "cell-f8d371600039ab78",
     "locked": true,
     "schema_version": 3,
     "solution": false,
     "task": false
    }
   },
   "source": [
    "Merge the dataframes `ratings` and `books_info` in order to have information about the genre of each book. Include only the books that have a rating.\n",
    "\n",
    "Hint | You might need to use the function <a href=\"https://pandas.pydata.org/docs/reference/api/pandas.DataFrame.merge.html\">merge()</a>  and explore the parameter 'how'."
   ]
  },
  {
   "cell_type": "code",
   "execution_count": 15,
   "metadata": {
    "deletable": false,
    "nbgrader": {
     "grade": false,
     "grade_id": "cell-106ae247ccfe9625",
     "locked": false,
     "schema_version": 3,
     "solution": true,
     "task": false
    }
   },
   "outputs": [
    {
     "data": {
      "text/html": [
       "<div>\n",
       "<style scoped>\n",
       "    .dataframe tbody tr th:only-of-type {\n",
       "        vertical-align: middle;\n",
       "    }\n",
       "\n",
       "    .dataframe tbody tr th {\n",
       "        vertical-align: top;\n",
       "    }\n",
       "\n",
       "    .dataframe thead th {\n",
       "        text-align: right;\n",
       "    }\n",
       "</style>\n",
       "<table border=\"1\" class=\"dataframe\">\n",
       "  <thead>\n",
       "    <tr style=\"text-align: right;\">\n",
       "      <th></th>\n",
       "      <th>User-ID</th>\n",
       "      <th>ISBN</th>\n",
       "      <th>Book-Rating</th>\n",
       "      <th>Genre</th>\n",
       "    </tr>\n",
       "  </thead>\n",
       "  <tbody>\n",
       "    <tr>\n",
       "      <th>0</th>\n",
       "      <td>1155</td>\n",
       "      <td>0451402103</td>\n",
       "      <td>8</td>\n",
       "      <td>True Crime</td>\n",
       "    </tr>\n",
       "    <tr>\n",
       "      <th>1</th>\n",
       "      <td>1155</td>\n",
       "      <td>0671689231</td>\n",
       "      <td>7</td>\n",
       "      <td>Biography &amp; Autobiography</td>\n",
       "    </tr>\n",
       "    <tr>\n",
       "      <th>2</th>\n",
       "      <td>70052</td>\n",
       "      <td>0671689231</td>\n",
       "      <td>7</td>\n",
       "      <td>Biography &amp; Autobiography</td>\n",
       "    </tr>\n",
       "    <tr>\n",
       "      <th>3</th>\n",
       "      <td>98904</td>\n",
       "      <td>0671689231</td>\n",
       "      <td>6</td>\n",
       "      <td>Biography &amp; Autobiography</td>\n",
       "    </tr>\n",
       "    <tr>\n",
       "      <th>4</th>\n",
       "      <td>110029</td>\n",
       "      <td>0671689231</td>\n",
       "      <td>8</td>\n",
       "      <td>Biography &amp; Autobiography</td>\n",
       "    </tr>\n",
       "  </tbody>\n",
       "</table>\n",
       "</div>"
      ],
      "text/plain": [
       "   User-ID        ISBN  Book-Rating                      Genre\n",
       "0     1155  0451402103            8                 True Crime\n",
       "1     1155  0671689231            7  Biography & Autobiography\n",
       "2    70052  0671689231            7  Biography & Autobiography\n",
       "3    98904  0671689231            6  Biography & Autobiography\n",
       "4   110029  0671689231            8  Biography & Autobiography"
      ]
     },
     "execution_count": 15,
     "metadata": {},
     "output_type": "execute_result"
    }
   ],
   "source": [
    "def get_book_ratings_df(ratings_, books_info_):\n",
    "    \"\"\"\n",
    "    Parameters\n",
    "        ratings_ - DataFrame\n",
    "        books_info_ - DataFrame\n",
    "        \n",
    "    Returns:\n",
    "        book_ratings - DataFrame\n",
    "    \"\"\"\n",
    "    \n",
    "    # YOUR CODE HERE\n",
    "    book_ratings = ratings_.merge(books_info_, how='inner', on='ISBN')\n",
    "    \n",
    "    return book_ratings\n",
    "\n",
    "book_ratings = get_book_ratings_df(ratings, books_info)\n",
    "book_ratings.head()"
   ]
  },
  {
   "cell_type": "code",
   "execution_count": 16,
   "metadata": {},
   "outputs": [
    {
     "data": {
      "text/plain": [
       "User-ID           0\n",
       "ISBN              0\n",
       "Book-Rating       0\n",
       "Genre          6529\n",
       "dtype: int64"
      ]
     },
     "execution_count": 16,
     "metadata": {},
     "output_type": "execute_result"
    }
   ],
   "source": [
    "book_ratings.isnull().sum()"
   ]
  },
  {
   "cell_type": "code",
   "execution_count": 17,
   "metadata": {
    "deletable": false,
    "editable": false,
    "nbgrader": {
     "grade": true,
     "grade_id": "cell-46d197eb6eb130a1",
     "locked": true,
     "points": 2,
     "schema_version": 3,
     "solution": false,
     "task": false
    }
   },
   "outputs": [],
   "source": [
    "expected_hash = 'c1d3dbf9ef7fb86036e5c933ff8de7a66d67b7dd25508764451e3ac8c300f110'\n",
    "assert hashlib.sha256(str(book_ratings.shape).encode()).hexdigest() == expected_hash\n",
    "\n",
    "expected_hash_1 = '3c4340f3a5aa8a40da4f7a2dc2f3ef4645ba099b58e986d12bd5f65b709efb20'\n",
    "assert hashlib.sha256(str(book_ratings['Book-Rating'].sum()).encode()).hexdigest() == expected_hash_1\n",
    "\n",
    "expected_hash_2 = '581cd6bccf7862e391ce07768616c8427d6cf9ddec881f6984e3cbd835379997'\n",
    "assert hashlib.sha256((book_ratings[(book_ratings['ISBN']=='1558744150')&(book_ratings['User-ID']==48579)].reset_index()['Genre'][0]).encode()).hexdigest() == expected_hash_2"
   ]
  },
  {
   "cell_type": "markdown",
   "metadata": {
    "deletable": false,
    "editable": false,
    "nbgrader": {
     "grade": false,
     "grade_id": "cell-0be50957688c06a5",
     "locked": true,
     "schema_version": 3,
     "solution": false,
     "task": false
    }
   },
   "source": [
    "### Task 3.1: The most popular books in the store"
   ]
  },
  {
   "cell_type": "markdown",
   "metadata": {
    "deletable": false,
    "editable": false,
    "nbgrader": {
     "grade": false,
     "grade_id": "cell-8a7167295bfa1d98",
     "locked": true,
     "schema_version": 3,
     "solution": false,
     "task": false
    }
   },
   "source": [
    "The Book Store wants to display on the website a collection of the most popular books in the store. Since we don't have information on purchases we are going to use the ratings.\n",
    "\n",
    "Create a function that returns a list with the ISBNs of the top N most popular books in the store - the N books that received the most ratings. The values in the list should be ordered from the most popular to the least popular book.\n",
    "\n",
    "Hint | You might find it useful to use the following functions (other similar functions are also available):\n",
    "\n",
    "- <a href=\"https://pandas.pydata.org/docs/reference/api/pandas.DataFrame.groupby.html \">groupby()</a> - to group the data \n",
    "- <a href=\"https://pandas.pydata.org/docs/reference/api/pandas.DataFrame.size.html\">size()</a> -  to get the number of lines\n"
   ]
  },
  {
   "cell_type": "code",
   "execution_count": 18,
   "metadata": {},
   "outputs": [
    {
     "data": {
      "text/html": [
       "<div>\n",
       "<style scoped>\n",
       "    .dataframe tbody tr th:only-of-type {\n",
       "        vertical-align: middle;\n",
       "    }\n",
       "\n",
       "    .dataframe tbody tr th {\n",
       "        vertical-align: top;\n",
       "    }\n",
       "\n",
       "    .dataframe thead th {\n",
       "        text-align: right;\n",
       "    }\n",
       "</style>\n",
       "<table border=\"1\" class=\"dataframe\">\n",
       "  <thead>\n",
       "    <tr style=\"text-align: right;\">\n",
       "      <th></th>\n",
       "      <th>ISBN</th>\n",
       "    </tr>\n",
       "  </thead>\n",
       "  <tbody>\n",
       "    <tr>\n",
       "      <th>0316666343</th>\n",
       "      <td>238</td>\n",
       "    </tr>\n",
       "    <tr>\n",
       "      <th>0312195516</th>\n",
       "      <td>166</td>\n",
       "    </tr>\n",
       "    <tr>\n",
       "      <th>0971880107</th>\n",
       "      <td>151</td>\n",
       "    </tr>\n",
       "    <tr>\n",
       "      <th>059035342X</th>\n",
       "      <td>144</td>\n",
       "    </tr>\n",
       "    <tr>\n",
       "      <th>0142001740</th>\n",
       "      <td>142</td>\n",
       "    </tr>\n",
       "    <tr>\n",
       "      <th>...</th>\n",
       "      <td>...</td>\n",
       "    </tr>\n",
       "    <tr>\n",
       "      <th>1575663988</th>\n",
       "      <td>1</td>\n",
       "    </tr>\n",
       "    <tr>\n",
       "      <th>0804113629</th>\n",
       "      <td>1</td>\n",
       "    </tr>\n",
       "    <tr>\n",
       "      <th>0553096036</th>\n",
       "      <td>1</td>\n",
       "    </tr>\n",
       "    <tr>\n",
       "      <th>0812553276</th>\n",
       "      <td>1</td>\n",
       "    </tr>\n",
       "    <tr>\n",
       "      <th>067161746X</th>\n",
       "      <td>1</td>\n",
       "    </tr>\n",
       "  </tbody>\n",
       "</table>\n",
       "<p>47711 rows × 1 columns</p>\n",
       "</div>"
      ],
      "text/plain": [
       "            ISBN\n",
       "0316666343   238\n",
       "0312195516   166\n",
       "0971880107   151\n",
       "059035342X   144\n",
       "0142001740   142\n",
       "...          ...\n",
       "1575663988     1\n",
       "0804113629     1\n",
       "0553096036     1\n",
       "0812553276     1\n",
       "067161746X     1\n",
       "\n",
       "[47711 rows x 1 columns]"
      ]
     },
     "execution_count": 18,
     "metadata": {},
     "output_type": "execute_result"
    }
   ],
   "source": [
    "pd.DataFrame(ratings['ISBN'].value_counts())"
   ]
  },
  {
   "cell_type": "code",
   "execution_count": 19,
   "metadata": {
    "deletable": false,
    "nbgrader": {
     "grade": false,
     "grade_id": "cell-6a3c641a8162def3",
     "locked": false,
     "schema_version": 3,
     "solution": true,
     "task": false
    }
   },
   "outputs": [
    {
     "data": {
      "text/plain": [
       "['0316666343', '0312195516', '0971880107', '059035342X', '0142001740']"
      ]
     },
     "execution_count": 19,
     "metadata": {},
     "output_type": "execute_result"
    }
   ],
   "source": [
    "def get_popular_books(df, n):\n",
    "    \"\"\"\n",
    "    Parameters\n",
    "        df - DataFrame\n",
    "        n - Integer\n",
    "        \n",
    "    Returns:\n",
    "        top_n_popular_books - list of the top n popular books\n",
    "    \"\"\"\n",
    "    #sorted_df = df.groupby(by='ISBN').sum().sort_values(by=['Book-Rating'], ascending=False)\n",
    "    sorted_df = df['ISBN'].value_counts()\n",
    "    books_list = sorted_df.index.tolist()\n",
    "    return books_list[:n]\n",
    "\n",
    "top_5_popular_books = get_popular_books(ratings, 5)\n",
    "top_5_popular_books"
   ]
  },
  {
   "cell_type": "code",
   "execution_count": 20,
   "metadata": {
    "deletable": false,
    "editable": false,
    "nbgrader": {
     "grade": true,
     "grade_id": "cell-f3916cd573f1cc2f",
     "locked": true,
     "points": 2,
     "schema_version": 3,
     "solution": false,
     "task": false
    }
   },
   "outputs": [],
   "source": [
    "expected_hash = 'ef2d127de37b942baad06145e54b0c619a1f22327b2ebbcfbec78f5564afe39d'\n",
    "assert hashlib.sha256(str(len(top_5_popular_books)).encode()).hexdigest() == expected_hash\n",
    "\n",
    "expected_hash_1 = 'ecf0bb677736450811308765d0a80c698603dae939c42388f4f19880fa7dc704'\n",
    "assert hashlib.sha256(str(top_5_popular_books[1]).encode()).hexdigest() == expected_hash_1\n",
    "\n",
    "expected_hash_2 = '6cf1c4943f89becc6f4a3d7013d542d14082edcb7038bc38792f2045419a556e'\n",
    "assert hashlib.sha256(str(top_5_popular_books[4]).encode()).hexdigest() == expected_hash_2\n"
   ]
  },
  {
   "cell_type": "markdown",
   "metadata": {
    "deletable": false,
    "editable": false,
    "nbgrader": {
     "grade": false,
     "grade_id": "cell-be3424c87361d0f2",
     "locked": true,
     "schema_version": 3,
     "solution": false,
     "task": false
    }
   },
   "source": [
    "### Task 3.2: The best rated books"
   ]
  },
  {
   "cell_type": "markdown",
   "metadata": {
    "deletable": false,
    "editable": false,
    "nbgrader": {
     "grade": false,
     "grade_id": "cell-56ee878cafce84f3",
     "locked": true,
     "schema_version": 3,
     "solution": false,
     "task": false
    }
   },
   "source": [
    "The Book Store also wants to display on the website a collection of the books with the best ratings in the store. \n",
    "\n",
    "Create a function that returns the top N best rated books with more than k ratings. Use the mean rating of each book for comparison. The list should be ordered from the best to the worst rated book."
   ]
  },
  {
   "cell_type": "code",
   "execution_count": 21,
   "metadata": {
    "deletable": false,
    "nbgrader": {
     "grade": false,
     "grade_id": "cell-b24cbf665fa243b3",
     "locked": false,
     "schema_version": 3,
     "solution": true,
     "task": false
    }
   },
   "outputs": [
    {
     "data": {
      "text/plain": [
       "['0060256656', '0439425220', '0836204387', '0836218221', '0064409422']"
      ]
     },
     "execution_count": 21,
     "metadata": {},
     "output_type": "execute_result"
    }
   ],
   "source": [
    "def get_topn_rates(data, n, k):\n",
    "    \"\"\"\n",
    "    Parameters\n",
    "        data - DataFrame with ratings\n",
    "        n - Top-n books\n",
    "        k - Minimum number of ratings\n",
    "        \n",
    "    Returns\n",
    "        top_books - List of ISBNs of top-n best mean rated books.\n",
    "        Only consider books with more than k ratings.\n",
    "    \"\"\"\n",
    "    # YOUR CODE HERE\n",
    "    df_rating = data[['ISBN', 'Book-Rating']].groupby(by='ISBN').mean()\n",
    "    df_count = pd.DataFrame(data['ISBN'].value_counts(), index=None).reset_index()\n",
    "    df_count.rename(columns={'index': 'ISBN', 'ISBN': 'Count'}, inplace=True)\n",
    "    merge = df_rating.merge(df_count, on = 'ISBN')\n",
    "    \n",
    "    select_k = merge[merge['Count'] > k]\n",
    "    sort = select_k.sort_values(by=['Book-Rating'], ascending=False)\n",
    "    sort_list = sort['ISBN'].values.tolist()\n",
    "    return sort_list[:n]\n",
    "    \n",
    "top5_rates = get_topn_rates(ratings, 5, 10)\n",
    "top5_rates"
   ]
  },
  {
   "cell_type": "code",
   "execution_count": 22,
   "metadata": {
    "deletable": false,
    "editable": false,
    "nbgrader": {
     "grade": true,
     "grade_id": "cell-8c9937866867ccc7",
     "locked": true,
     "points": 2,
     "schema_version": 3,
     "solution": false,
     "task": false
    }
   },
   "outputs": [],
   "source": [
    "expected_hash = 'ef2d127de37b942baad06145e54b0c619a1f22327b2ebbcfbec78f5564afe39d'\n",
    "assert hashlib.sha256(str(len(top5_rates)).encode()).hexdigest() == expected_hash\n",
    "\n",
    "expected_hash_1 = '176e1ad48051114c46de83e1b5b55bf6bc21dbfce49a62ff352cfdef48ff6357'\n",
    "assert hashlib.sha256(str(top5_rates[1]).encode()).hexdigest() == expected_hash_1\n",
    "\n",
    "expected_hash_2 = '20865e898050bb593da47f242377658bf3653fe9931bb645e6b1bbf29440d9f0'\n",
    "assert hashlib.sha256(str(top5_rates[4]).encode()).hexdigest() == expected_hash_2"
   ]
  },
  {
   "cell_type": "markdown",
   "metadata": {
    "deletable": false,
    "editable": false,
    "nbgrader": {
     "grade": false,
     "grade_id": "cell-ef432e6a268fc8a6",
     "locked": true,
     "schema_version": 3,
     "solution": false,
     "task": false
    }
   },
   "source": [
    "### Task 3.3: Loyal customers"
   ]
  },
  {
   "cell_type": "markdown",
   "metadata": {
    "deletable": false,
    "editable": false,
    "nbgrader": {
     "grade": false,
     "grade_id": "cell-504073ff32974729",
     "locked": true,
     "schema_version": 3,
     "solution": false,
     "task": false
    }
   },
   "source": [
    "The Book Store wants to reward the customers that gave the most ratings on the website. \n",
    "\n",
    "Create a function that returns a list of the top N users that gave the most ratings. Order the list by the number of given ratings in descending order."
   ]
  },
  {
   "cell_type": "code",
   "execution_count": 23,
   "metadata": {
    "deletable": false,
    "nbgrader": {
     "grade": false,
     "grade_id": "cell-25e8aaca6e79506f",
     "locked": false,
     "schema_version": 3,
     "solution": true,
     "task": false
    }
   },
   "outputs": [],
   "source": [
    "def get_loyal_customers(df, n):\n",
    "    \"\"\"\n",
    "    Parameters\n",
    "        df - DataFrame\n",
    "        n - Integer\n",
    "        \n",
    "    Returns:\n",
    "        top_n_loyal_customers - The top n loyal customers\n",
    "    \"\"\"\n",
    "    users_df = pd.DataFrame(df['User-ID'].value_counts())\n",
    "\n",
    "    user_df = df['User-ID'].value_counts()\n",
    "    user_list = user_df.index.tolist()\n",
    "    return user_list[:n]\n",
    "    \n",
    "\n",
    "top_10_loyal_customers = get_loyal_customers(ratings, 10)"
   ]
  },
  {
   "cell_type": "code",
   "execution_count": 24,
   "metadata": {
    "deletable": false,
    "editable": false,
    "nbgrader": {
     "grade": true,
     "grade_id": "cell-e5a8da344c56c0a2",
     "locked": true,
     "points": 2,
     "schema_version": 3,
     "solution": false,
     "task": false
    }
   },
   "outputs": [],
   "source": [
    "expected_hash = '4a44dc15364204a80fe80e9039455cc1608281820fe2b24f1e5233ade6af1dd5'\n",
    "assert hashlib.sha256(str(len(top_10_loyal_customers)).encode()).hexdigest() == expected_hash\n",
    "\n",
    "expected_hash_1 = 'c182d826ceb2b42f749faf0dd41929c88dff7a57a6000e2e7d16e5229ca6640b'\n",
    "assert hashlib.sha256(str(top_10_loyal_customers[1]).encode()).hexdigest() == expected_hash_1\n",
    "\n",
    "expected_hash_2 = '4df81fd140c781b33e9adde8d4bc1dbf520c4a2748f31f5abbe04182176580c6'\n",
    "assert hashlib.sha256(str(top_10_loyal_customers[7]).encode()).hexdigest() == expected_hash_2"
   ]
  },
  {
   "cell_type": "markdown",
   "metadata": {
    "deletable": false,
    "editable": false,
    "nbgrader": {
     "grade": false,
     "grade_id": "cell-3af855af659ac623",
     "locked": true,
     "schema_version": 3,
     "solution": false,
     "task": false
    }
   },
   "source": [
    "### Task 3.4: For which genre did the users give the most ratings?"
   ]
  },
  {
   "cell_type": "markdown",
   "metadata": {
    "deletable": false,
    "editable": false,
    "nbgrader": {
     "grade": false,
     "grade_id": "cell-09ea9999fbfe0eb2",
     "locked": true,
     "schema_version": 3,
     "solution": false,
     "task": false
    }
   },
   "source": [
    "Hint | You may find the following function useful (other similar functions are also available):\n",
    "\n",
    "- <a href=\"https://pandas.pydata.org/docs/reference/api/pandas.DataFrame.sort_values.html\">sort_values()</a> -  to sort the data by the number of ratings"
   ]
  },
  {
   "cell_type": "code",
   "execution_count": 25,
   "metadata": {},
   "outputs": [
    {
     "data": {
      "text/plain": [
       "Fiction                           60712\n",
       "Juvenile Fiction                   6878\n",
       "Biography & Autobiography          3850\n",
       "Humor                              1898\n",
       "History                            1438\n",
       "                                  ...  \n",
       "Rodeo                                 1\n",
       "Rock music fans                       1\n",
       "Book clubs (Discussion groups)        1\n",
       "Fireworks                             1\n",
       "Alternative histories                 1\n",
       "Name: Genre, Length: 2543, dtype: int64"
      ]
     },
     "execution_count": 25,
     "metadata": {},
     "output_type": "execute_result"
    }
   ],
   "source": [
    "book_ratings['Genre'].value_counts()"
   ]
  },
  {
   "cell_type": "code",
   "execution_count": 26,
   "metadata": {
    "deletable": false,
    "nbgrader": {
     "grade": false,
     "grade_id": "cell-27d7a4c706036abe",
     "locked": false,
     "schema_version": 3,
     "solution": true,
     "task": false
    }
   },
   "outputs": [],
   "source": [
    "\n",
    "genre_user_top_rating =  'Fiction'"
   ]
  },
  {
   "cell_type": "code",
   "execution_count": 27,
   "metadata": {
    "deletable": false,
    "editable": false,
    "nbgrader": {
     "grade": true,
     "grade_id": "cell-aee1c916a520406c",
     "locked": true,
     "points": 2,
     "schema_version": 3,
     "solution": false,
     "task": false
    }
   },
   "outputs": [],
   "source": [
    "expected_hash = 'efa9a3729d47c5c47c0c763107f82dbeb8ba63e479274b2661edf418850791fb'\n",
    "assert hashlib.sha256(str(genre_user_top_rating).encode()).hexdigest() == expected_hash"
   ]
  },
  {
   "cell_type": "markdown",
   "metadata": {
    "deletable": false,
    "editable": false,
    "nbgrader": {
     "grade": false,
     "grade_id": "cell-403db9de2fbc20cb",
     "locked": true,
     "schema_version": 3,
     "solution": false,
     "task": false
    }
   },
   "source": [
    "### Task 3.5: The most popular books by genre"
   ]
  },
  {
   "cell_type": "markdown",
   "metadata": {
    "deletable": false,
    "editable": false,
    "nbgrader": {
     "grade": false,
     "grade_id": "cell-e2a2f67f680b6a54",
     "locked": true,
     "schema_version": 3,
     "solution": false,
     "task": false
    }
   },
   "source": [
    "The Book Store wants to display the most popular book in each genre when the customer navigates to the genre tab.\n",
    "\n",
    "Create a function that returns a dataframe with the most popular book of each genre, judging by the number of ratings each book received. The columns of the dataset should be `Genre`,`count` for the number of ratings of the most popular book and `ISBN`.\n",
    "\n",
    "Hint | You might find the following function useful (other similar functions are also available):\n",
    "\n",
    "- <a href=\"https://pandas.pydata.org/docs/reference/api/pandas.DataFrame.head.html\">head()</a> - to get a retricted number of lines per group"
   ]
  },
  {
   "cell_type": "code",
   "execution_count": 28,
   "metadata": {},
   "outputs": [
    {
     "data": {
      "text/html": [
       "<div>\n",
       "<style scoped>\n",
       "    .dataframe tbody tr th:only-of-type {\n",
       "        vertical-align: middle;\n",
       "    }\n",
       "\n",
       "    .dataframe tbody tr th {\n",
       "        vertical-align: top;\n",
       "    }\n",
       "\n",
       "    .dataframe thead th {\n",
       "        text-align: right;\n",
       "    }\n",
       "</style>\n",
       "<table border=\"1\" class=\"dataframe\">\n",
       "  <thead>\n",
       "    <tr style=\"text-align: right;\">\n",
       "      <th></th>\n",
       "      <th>User-ID</th>\n",
       "      <th>ISBN</th>\n",
       "      <th>Book-Rating</th>\n",
       "      <th>Genre</th>\n",
       "    </tr>\n",
       "  </thead>\n",
       "  <tbody>\n",
       "    <tr>\n",
       "      <th>0</th>\n",
       "      <td>1155</td>\n",
       "      <td>0451402103</td>\n",
       "      <td>8</td>\n",
       "      <td>True Crime</td>\n",
       "    </tr>\n",
       "    <tr>\n",
       "      <th>1</th>\n",
       "      <td>1155</td>\n",
       "      <td>0671689231</td>\n",
       "      <td>7</td>\n",
       "      <td>Biography &amp; Autobiography</td>\n",
       "    </tr>\n",
       "    <tr>\n",
       "      <th>2</th>\n",
       "      <td>70052</td>\n",
       "      <td>0671689231</td>\n",
       "      <td>7</td>\n",
       "      <td>Biography &amp; Autobiography</td>\n",
       "    </tr>\n",
       "    <tr>\n",
       "      <th>3</th>\n",
       "      <td>98904</td>\n",
       "      <td>0671689231</td>\n",
       "      <td>6</td>\n",
       "      <td>Biography &amp; Autobiography</td>\n",
       "    </tr>\n",
       "    <tr>\n",
       "      <th>4</th>\n",
       "      <td>110029</td>\n",
       "      <td>0671689231</td>\n",
       "      <td>8</td>\n",
       "      <td>Biography &amp; Autobiography</td>\n",
       "    </tr>\n",
       "  </tbody>\n",
       "</table>\n",
       "</div>"
      ],
      "text/plain": [
       "   User-ID        ISBN  Book-Rating                      Genre\n",
       "0     1155  0451402103            8                 True Crime\n",
       "1     1155  0671689231            7  Biography & Autobiography\n",
       "2    70052  0671689231            7  Biography & Autobiography\n",
       "3    98904  0671689231            6  Biography & Autobiography\n",
       "4   110029  0671689231            8  Biography & Autobiography"
      ]
     },
     "execution_count": 28,
     "metadata": {},
     "output_type": "execute_result"
    }
   ],
   "source": [
    "book_ratings.head()"
   ]
  },
  {
   "cell_type": "code",
   "execution_count": 29,
   "metadata": {
    "deletable": false,
    "nbgrader": {
     "grade": false,
     "grade_id": "cell-befdd158e348befe",
     "locked": false,
     "schema_version": 3,
     "solution": true,
     "task": false
    }
   },
   "outputs": [
    {
     "data": {
      "text/html": [
       "<div>\n",
       "<style scoped>\n",
       "    .dataframe tbody tr th:only-of-type {\n",
       "        vertical-align: middle;\n",
       "    }\n",
       "\n",
       "    .dataframe tbody tr th {\n",
       "        vertical-align: top;\n",
       "    }\n",
       "\n",
       "    .dataframe thead th {\n",
       "        text-align: right;\n",
       "    }\n",
       "</style>\n",
       "<table border=\"1\" class=\"dataframe\">\n",
       "  <thead>\n",
       "    <tr style=\"text-align: right;\">\n",
       "      <th></th>\n",
       "      <th>Genre</th>\n",
       "      <th>count</th>\n",
       "      <th>ISBN</th>\n",
       "    </tr>\n",
       "  </thead>\n",
       "  <tbody>\n",
       "    <tr>\n",
       "      <th>5539</th>\n",
       "      <td>Fiction</td>\n",
       "      <td>238</td>\n",
       "      <td>0316666343</td>\n",
       "    </tr>\n",
       "    <tr>\n",
       "      <th>1571</th>\n",
       "      <td>Juvenile Fiction</td>\n",
       "      <td>144</td>\n",
       "      <td>059035342X</td>\n",
       "    </tr>\n",
       "    <tr>\n",
       "      <th>14674</th>\n",
       "      <td>Biography &amp; Autobiography</td>\n",
       "      <td>90</td>\n",
       "      <td>0385484518</td>\n",
       "    </tr>\n",
       "    <tr>\n",
       "      <th>17492</th>\n",
       "      <td>Humor</td>\n",
       "      <td>85</td>\n",
       "      <td>0316776963</td>\n",
       "    </tr>\n",
       "    <tr>\n",
       "      <th>12843</th>\n",
       "      <td>FICTION</td>\n",
       "      <td>80</td>\n",
       "      <td>0842329129</td>\n",
       "    </tr>\n",
       "    <tr>\n",
       "      <th>...</th>\n",
       "      <td>...</td>\n",
       "      <td>...</td>\n",
       "      <td>...</td>\n",
       "    </tr>\n",
       "    <tr>\n",
       "      <th>77609</th>\n",
       "      <td>Compost</td>\n",
       "      <td>1</td>\n",
       "      <td>0962976806</td>\n",
       "    </tr>\n",
       "    <tr>\n",
       "      <th>77542</th>\n",
       "      <td>Funny animal comics</td>\n",
       "      <td>1</td>\n",
       "      <td>0448405024</td>\n",
       "    </tr>\n",
       "    <tr>\n",
       "      <th>77664</th>\n",
       "      <td>Ability</td>\n",
       "      <td>1</td>\n",
       "      <td>1850919186</td>\n",
       "    </tr>\n",
       "    <tr>\n",
       "      <th>78537</th>\n",
       "      <td>HEALTH &amp; FITNESS</td>\n",
       "      <td>1</td>\n",
       "      <td>0874779588</td>\n",
       "    </tr>\n",
       "    <tr>\n",
       "      <th>78591</th>\n",
       "      <td>Investment analysis</td>\n",
       "      <td>1</td>\n",
       "      <td>068484401X</td>\n",
       "    </tr>\n",
       "  </tbody>\n",
       "</table>\n",
       "<p>2543 rows × 3 columns</p>\n",
       "</div>"
      ],
      "text/plain": [
       "                           Genre  count        ISBN\n",
       "5539                     Fiction    238  0316666343\n",
       "1571            Juvenile Fiction    144  059035342X\n",
       "14674  Biography & Autobiography     90  0385484518\n",
       "17492                      Humor     85  0316776963\n",
       "12843                    FICTION     80  0842329129\n",
       "...                          ...    ...         ...\n",
       "77609                    Compost      1  0962976806\n",
       "77542        Funny animal comics      1  0448405024\n",
       "77664                    Ability      1  1850919186\n",
       "78537           HEALTH & FITNESS      1  0874779588\n",
       "78591        Investment analysis      1  068484401X\n",
       "\n",
       "[2543 rows x 3 columns]"
      ]
     },
     "execution_count": 29,
     "metadata": {},
     "output_type": "execute_result"
    }
   ],
   "source": [
    "def get_top1_popularity_genre(df):\n",
    "    \"\"\"\n",
    "    Parameters\n",
    "        df - merged DataFrame with book ratings and genres\n",
    "        \n",
    "    Returns:\n",
    "        top_books_genre - DataFrame with three columns: Genre, ISBN, count\n",
    "    \"\"\"\n",
    "    \n",
    "    # YOUR CODE HERE\n",
    "    top_books_genre = pd.DataFrame()\n",
    "    count_dict = df['ISBN'].value_counts().to_dict()\n",
    "\n",
    "    top_books_genre['Genre'] = df['Genre']\n",
    "    top_books_genre['count'] = df['ISBN']\n",
    "    top_books_genre['ISBN'] = df['ISBN']\n",
    "    top_books_genre['count'] = top_books_genre['count'].map(count_dict)\n",
    "    top_books_genre = top_books_genre.sort_values(by=['count'], ascending=False)\n",
    "\n",
    "    return top_books_genre.groupby('Genre').head(1)\n",
    "\n",
    "\n",
    "top_books_genre = get_top1_popularity_genre(book_ratings)\n",
    "top_books_genre"
   ]
  },
  {
   "cell_type": "code",
   "execution_count": 30,
   "metadata": {
    "deletable": false,
    "editable": false,
    "nbgrader": {
     "grade": true,
     "grade_id": "cell-92004092dfc812a0",
     "locked": true,
     "points": 1,
     "schema_version": 3,
     "solution": false,
     "task": false
    }
   },
   "outputs": [],
   "source": [
    "expected_hash = '9a85c6d41062f7ba7fd7c7130eb5975156f0fd04f93d74fc27778a6726d7c1f3'\n",
    "assert hashlib.sha256(str(top_books_genre[top_books_genre['Genre']=='Fiction'].reset_index().loc[:,'ISBN'][0]).encode()).hexdigest() == expected_hash\n",
    "\n",
    "expected_hash_1 = '481b11af7b7f0cab7895d47507e7d85310dc49d4fc951117abecfbf7e23a28f2'\n",
    "assert hashlib.sha256(str(top_books_genre[top_books_genre['Genre']=='poems'].reset_index().loc[:,'ISBN'][0]).encode()).hexdigest() == expected_hash_1\n",
    "\n",
    "expected_hash_2 = '3d89b8a0dd59309c672f7a1af89ba217cf9cba6213adecf1906d4f3992a85cc9'\n",
    "assert hashlib.sha256(str(top_books_genre[top_books_genre['Genre']=='Biography & Autobiography'].reset_index().loc[:,'ISBN'][0]).encode()).hexdigest() == expected_hash_2"
   ]
  },
  {
   "cell_type": "markdown",
   "metadata": {
    "deletable": false,
    "editable": false,
    "nbgrader": {
     "grade": false,
     "grade_id": "cell-c5a65b71966b1c28",
     "locked": true,
     "schema_version": 3,
     "solution": false,
     "task": false
    }
   },
   "source": [
    "### Task 3.6: Top 3 best average rated books by genre"
   ]
  },
  {
   "cell_type": "markdown",
   "metadata": {
    "deletable": false,
    "editable": false,
    "nbgrader": {
     "grade": false,
     "grade_id": "cell-2b9399d7aaf451ed",
     "locked": true,
     "schema_version": 3,
     "solution": false,
     "task": false
    }
   },
   "source": [
    "The Book Store also wants to display in the genre tab the \"Best books to read\". \n",
    "\n",
    "Create a function that returns a Dataframe with the top 3 books with the highest average rating in each genre. Don't forget to display the `Genre`, `ISBN` and average `Book-Rating`. Sort the dataframe by `Genre`."
   ]
  },
  {
   "cell_type": "code",
   "execution_count": 78,
   "metadata": {},
   "outputs": [
    {
     "data": {
      "text/plain": [
       "User-ID           0\n",
       "ISBN              0\n",
       "Book-Rating       0\n",
       "Genre          6529\n",
       "dtype: int64"
      ]
     },
     "execution_count": 78,
     "metadata": {},
     "output_type": "execute_result"
    }
   ],
   "source": [
    "book_ratings.isnull().sum()"
   ]
  },
  {
   "cell_type": "code",
   "execution_count": 98,
   "metadata": {
    "deletable": false,
    "nbgrader": {
     "grade": false,
     "grade_id": "cell-a784d8a45a909c8c",
     "locked": false,
     "schema_version": 3,
     "solution": true,
     "task": false
    }
   },
   "outputs": [
    {
     "data": {
      "text/html": [
       "<div>\n",
       "<style scoped>\n",
       "    .dataframe tbody tr th:only-of-type {\n",
       "        vertical-align: middle;\n",
       "    }\n",
       "\n",
       "    .dataframe tbody tr th {\n",
       "        vertical-align: top;\n",
       "    }\n",
       "\n",
       "    .dataframe thead th {\n",
       "        text-align: right;\n",
       "    }\n",
       "</style>\n",
       "<table border=\"1\" class=\"dataframe\">\n",
       "  <thead>\n",
       "    <tr style=\"text-align: right;\">\n",
       "      <th></th>\n",
       "      <th>ISBN</th>\n",
       "      <th>Genre</th>\n",
       "      <th>Book-Rating</th>\n",
       "    </tr>\n",
       "  </thead>\n",
       "  <tbody>\n",
       "    <tr>\n",
       "      <th>91129</th>\n",
       "      <td>0500282420</td>\n",
       "      <td>Architecture</td>\n",
       "      <td>10.0</td>\n",
       "    </tr>\n",
       "    <tr>\n",
       "      <th>54779</th>\n",
       "      <td>0696013258</td>\n",
       "      <td>Cooking</td>\n",
       "      <td>10.0</td>\n",
       "    </tr>\n",
       "    <tr>\n",
       "      <th>54761</th>\n",
       "      <td>0448433400</td>\n",
       "      <td>Juvenile Fiction</td>\n",
       "      <td>10.0</td>\n",
       "    </tr>\n",
       "    <tr>\n",
       "      <th>54770</th>\n",
       "      <td>0609802348</td>\n",
       "      <td>House &amp; Home</td>\n",
       "      <td>10.0</td>\n",
       "    </tr>\n",
       "    <tr>\n",
       "      <th>54771</th>\n",
       "      <td>0671537660</td>\n",
       "      <td>Erotic stories, American</td>\n",
       "      <td>10.0</td>\n",
       "    </tr>\n",
       "    <tr>\n",
       "      <th>...</th>\n",
       "      <td>...</td>\n",
       "      <td>...</td>\n",
       "      <td>...</td>\n",
       "    </tr>\n",
       "    <tr>\n",
       "      <th>56389</th>\n",
       "      <td>1929976011</td>\n",
       "      <td>Inside Passage</td>\n",
       "      <td>1.0</td>\n",
       "    </tr>\n",
       "    <tr>\n",
       "      <th>78537</th>\n",
       "      <td>0874779588</td>\n",
       "      <td>HEALTH &amp; FITNESS</td>\n",
       "      <td>1.0</td>\n",
       "    </tr>\n",
       "    <tr>\n",
       "      <th>84970</th>\n",
       "      <td>067150469X</td>\n",
       "      <td>Real estate investment</td>\n",
       "      <td>1.0</td>\n",
       "    </tr>\n",
       "    <tr>\n",
       "      <th>67429</th>\n",
       "      <td>067187120x</td>\n",
       "      <td>Social problems</td>\n",
       "      <td>1.0</td>\n",
       "    </tr>\n",
       "    <tr>\n",
       "      <th>100542</th>\n",
       "      <td>0439062748</td>\n",
       "      <td>Teenagers</td>\n",
       "      <td>1.0</td>\n",
       "    </tr>\n",
       "  </tbody>\n",
       "</table>\n",
       "<p>3921 rows × 3 columns</p>\n",
       "</div>"
      ],
      "text/plain": [
       "              ISBN                     Genre  Book-Rating\n",
       "91129   0500282420              Architecture         10.0\n",
       "54779   0696013258                   Cooking         10.0\n",
       "54761   0448433400          Juvenile Fiction         10.0\n",
       "54770   0609802348              House & Home         10.0\n",
       "54771   0671537660  Erotic stories, American         10.0\n",
       "...            ...                       ...          ...\n",
       "56389   1929976011            Inside Passage          1.0\n",
       "78537   0874779588          HEALTH & FITNESS          1.0\n",
       "84970   067150469X    Real estate investment          1.0\n",
       "67429   067187120x           Social problems          1.0\n",
       "100542  0439062748                 Teenagers          1.0\n",
       "\n",
       "[3921 rows x 3 columns]"
      ]
     },
     "execution_count": 98,
     "metadata": {},
     "output_type": "execute_result"
    }
   ],
   "source": [
    "def get_top3_rates_genre(df):\n",
    "    \n",
    "    \"\"\"\n",
    "    Parameters\n",
    "        df - merged DataFrame with ratings and genre\n",
    "              \n",
    "    Returns\n",
    "        books - DataFrame sorted by genre with top 3 books with the highest average rating per genre\n",
    "              - columns: Genre, ISBN, Book-Rating\n",
    "    \"\"\"\n",
    "    \n",
    "    # YOUR CODE HERE\n",
    "    books = pd.DataFrame()\n",
    "\n",
    "    #books = df[['ISBN', 'Book-Rating']].groupby(by='ISBN').mean().reset_index()\n",
    "    #books['Genre'] = books['ISBN']\n",
    "    #genre_dict = df[['ISBN', 'Genre']].set_index('ISBN').groupby(by='Genre').head(1).to_dict()\n",
    "    #genre_dict = genre_dict['Genre']\n",
    "    #books['Genre'] = books['Genre'].map(genre_dict)\n",
    "    rating_dict = df[['ISBN', 'Book-Rating']].groupby(by='ISBN').mean().to_dict()\n",
    "    rating_dict = rating_dict['Book-Rating']\n",
    "\n",
    "    books['ISBN'] = df['ISBN']\n",
    "    books['Genre'] = df['Genre']\n",
    "    books['Book-Rating'] = df['ISBN']\n",
    "    books['Book-Rating'] = books['Book-Rating'].map(rating_dict)\n",
    "    books = books.groupby('ISBN').head(1)\n",
    "    books = books.sort_values(by=['Book-Rating'], ascending=False)\n",
    "    return books.groupby('Genre').head(3)\n",
    "\n",
    "top3_rates_genre = get_top3_rates_genre(book_ratings)\n",
    "top3_rates_genre"
   ]
  },
  {
   "cell_type": "code",
   "execution_count": 99,
   "metadata": {},
   "outputs": [
    {
     "data": {
      "text/html": [
       "<div>\n",
       "<style scoped>\n",
       "    .dataframe tbody tr th:only-of-type {\n",
       "        vertical-align: middle;\n",
       "    }\n",
       "\n",
       "    .dataframe tbody tr th {\n",
       "        vertical-align: top;\n",
       "    }\n",
       "\n",
       "    .dataframe thead th {\n",
       "        text-align: right;\n",
       "    }\n",
       "</style>\n",
       "<table border=\"1\" class=\"dataframe\">\n",
       "  <thead>\n",
       "    <tr style=\"text-align: right;\">\n",
       "      <th></th>\n",
       "      <th>ISBN</th>\n",
       "      <th>Genre</th>\n",
       "      <th>Book-Rating</th>\n",
       "    </tr>\n",
       "  </thead>\n",
       "  <tbody>\n",
       "    <tr>\n",
       "      <th>54788</th>\n",
       "      <td>0684834456</td>\n",
       "      <td>Fiction</td>\n",
       "      <td>10.0</td>\n",
       "    </tr>\n",
       "    <tr>\n",
       "      <th>54744</th>\n",
       "      <td>0373226160</td>\n",
       "      <td>Fiction</td>\n",
       "      <td>10.0</td>\n",
       "    </tr>\n",
       "    <tr>\n",
       "      <th>95743</th>\n",
       "      <td>0896211231</td>\n",
       "      <td>Fiction</td>\n",
       "      <td>10.0</td>\n",
       "    </tr>\n",
       "  </tbody>\n",
       "</table>\n",
       "</div>"
      ],
      "text/plain": [
       "             ISBN    Genre  Book-Rating\n",
       "54788  0684834456  Fiction         10.0\n",
       "54744  0373226160  Fiction         10.0\n",
       "95743  0896211231  Fiction         10.0"
      ]
     },
     "execution_count": 99,
     "metadata": {},
     "output_type": "execute_result"
    }
   ],
   "source": [
    "top3_rates_genre[top3_rates_genre['Genre']=='Fiction']"
   ]
  },
  {
   "cell_type": "code",
   "execution_count": 100,
   "metadata": {
    "deletable": false,
    "editable": false,
    "nbgrader": {
     "grade": true,
     "grade_id": "cell-69c6a034c926fa35",
     "locked": true,
     "points": 1,
     "schema_version": 3,
     "solution": false,
     "task": false
    }
   },
   "outputs": [],
   "source": [
    "expected_hash = '250302a44bedd984034e258ba47827a340db357e8553b4d85ff573d894329123'\n",
    "assert hashlib.sha256(str(top3_rates_genre.shape).encode()).hexdigest() == expected_hash\n",
    "\n",
    "expected_hash_1 = '1e56c660887ba75c099588c47bf90b565fe315821214b14f1255a73cab988ed5'\n",
    "assert hashlib.sha256(str(round(top3_rates_genre['Book-Rating'].sum(),0)).encode()).hexdigest() == expected_hash_1"
   ]
  },
  {
   "cell_type": "markdown",
   "metadata": {
    "deletable": false,
    "editable": false,
    "nbgrader": {
     "grade": false,
     "grade_id": "cell-f15de65f28ae461f",
     "locked": true,
     "schema_version": 3,
     "solution": false,
     "task": false
    }
   },
   "source": [
    "### Task 4: Most common groups of books"
   ]
  },
  {
   "cell_type": "markdown",
   "metadata": {
    "deletable": false,
    "editable": false,
    "nbgrader": {
     "grade": false,
     "grade_id": "cell-fc36930b6cc60e99",
     "locked": true,
     "schema_version": 3,
     "solution": false,
     "task": false
    }
   },
   "source": [
    "The Book Store wants to display groups of books that the users usually rate together.\n",
    "\n",
    "Create a function that returns the N most frequent sets of M books that the users rate together for a given minimum support, ordered by support. The function should return a dataframe with two columns `support` and `itemsets`. The input of the function is the rating matrix that you created in Task 2."
   ]
  },
  {
   "cell_type": "code",
   "execution_count": 110,
   "metadata": {
    "deletable": false,
    "nbgrader": {
     "grade": false,
     "grade_id": "cell-84282d90389727fe",
     "locked": false,
     "schema_version": 3,
     "solution": true,
     "task": false
    }
   },
   "outputs": [
    {
     "data": {
      "text/html": [
       "<div>\n",
       "<style scoped>\n",
       "    .dataframe tbody tr th:only-of-type {\n",
       "        vertical-align: middle;\n",
       "    }\n",
       "\n",
       "    .dataframe tbody tr th {\n",
       "        vertical-align: top;\n",
       "    }\n",
       "\n",
       "    .dataframe thead th {\n",
       "        text-align: right;\n",
       "    }\n",
       "</style>\n",
       "<table border=\"1\" class=\"dataframe\">\n",
       "  <thead>\n",
       "    <tr style=\"text-align: right;\">\n",
       "      <th></th>\n",
       "      <th>support</th>\n",
       "      <th>itemsets</th>\n",
       "    </tr>\n",
       "  </thead>\n",
       "  <tbody>\n",
       "    <tr>\n",
       "      <th>664</th>\n",
       "      <td>0.005094</td>\n",
       "      <td>(23929, 16018, 15979)</td>\n",
       "    </tr>\n",
       "    <tr>\n",
       "      <th>663</th>\n",
       "      <td>0.004216</td>\n",
       "      <td>(16018, 15979, 16130)</td>\n",
       "    </tr>\n",
       "    <tr>\n",
       "      <th>662</th>\n",
       "      <td>0.004040</td>\n",
       "      <td>(6738, 6754, 6791)</td>\n",
       "    </tr>\n",
       "  </tbody>\n",
       "</table>\n",
       "</div>"
      ],
      "text/plain": [
       "      support               itemsets\n",
       "664  0.005094  (23929, 16018, 15979)\n",
       "663  0.004216  (16018, 15979, 16130)\n",
       "662  0.004040     (6738, 6754, 6791)"
      ]
     },
     "execution_count": 110,
     "metadata": {},
     "output_type": "execute_result"
    }
   ],
   "source": [
    "def get_apriori_booksets(R, min_support=0.003, n=3, m=3):\n",
    "    \n",
    "    \"\"\"\n",
    "    Parameters\n",
    "        R - rating matrix\n",
    "        min_support - minimal support for the itemsets\n",
    "        n - number of top n itemsets to return\n",
    "        m - number of items in itemsets\n",
    "              \n",
    "    Returns\n",
    "        booksets - dataframe with the top n itemsets, \n",
    "                   with columns support and itemsets,\n",
    "                   ordered by support in descending order\n",
    "    \"\"\"\n",
    "\n",
    "    \n",
    "    # YOUR CODE HERE\n",
    "    R_ = pd.DataFrame(R > 0)\n",
    "    booksets = apriori(R_, min_support).sort_values(by=['support'], ascending=False)\n",
    "    booksets['length'] = booksets['itemsets'].apply(lambda x: len(x))\n",
    "    booksets = booksets[(booksets['length'] >= m)]\n",
    "    \n",
    "    return booksets[['support', 'itemsets']][:n]\n",
    "\n",
    "get_3_booksets = get_apriori_booksets(R, min_support=0.003, n=3, m=3)\n",
    "\n",
    "get_3_booksets"
   ]
  },
  {
   "cell_type": "code",
   "execution_count": 111,
   "metadata": {
    "deletable": false,
    "editable": false,
    "nbgrader": {
     "grade": true,
     "grade_id": "cell-ca3fda0f7747ebeb",
     "locked": true,
     "points": 2,
     "schema_version": 3,
     "solution": false,
     "task": false
    }
   },
   "outputs": [],
   "source": [
    "assert get_3_booksets.shape[0]==3, 'The returned dataframe does not have the correct shape.'\n",
    "assert get_3_booksets.shape[1]==2, 'The returned dataframe does not have the correct shape.'\n",
    "\n",
    "assert 16018 in get_3_booksets.reset_index()['itemsets'][0]\n",
    "assert 15979 in get_3_booksets.reset_index()['itemsets'][0]\n",
    "assert 16130 in get_3_booksets.reset_index()['itemsets'][1]"
   ]
  }
 ],
 "metadata": {
  "kernelspec": {
   "display_name": "Python 3 (ipykernel)",
   "language": "python",
   "name": "python3"
  },
  "language_info": {
   "codemirror_mode": {
    "name": "ipython",
    "version": 3
   },
   "file_extension": ".py",
   "mimetype": "text/x-python",
   "name": "python",
   "nbconvert_exporter": "python",
   "pygments_lexer": "ipython3",
   "version": "3.8.16"
  }
 },
 "nbformat": 4,
 "nbformat_minor": 4
}
